{
 "cells": [
  {
   "cell_type": "code",
   "execution_count": 49,
   "outputs": [],
   "source": [
    "#importing packages\n",
    "import inline as inline\n",
    "import matplotlib as matplotlib\n",
    "#%matplotlib inline\n",
    "import scipy.stats as stats\n",
    "import numpy as np\n",
    "import pandas as pd\n",
    "import matplotlib.pyplot as plt\n",
    "import seaborn as sns\n",
    "plt.style.use('ggplot')"
   ],
   "metadata": {
    "collapsed": false,
    "pycharm": {
     "name": "#%%\n"
    }
   }
  },
  {
   "cell_type": "code",
   "execution_count": 50,
   "outputs": [],
   "source": [
    "df = pd.read_csv('creditcard.csv')"
   ],
   "metadata": {
    "collapsed": false,
    "pycharm": {
     "name": "#%%\n"
    }
   }
  },
  {
   "cell_type": "code",
   "execution_count": 51,
   "outputs": [
    {
     "name": "stdout",
     "output_type": "stream",
     "text": [
      "This data frame has 284807 rows and 31 columns.\n"
     ]
    }
   ],
   "source": [
    "print('This data frame has {} rows and {} columns.'.format(df.shape[0], df.shape[1]))"
   ],
   "metadata": {
    "collapsed": false,
    "pycharm": {
     "name": "#%%\n"
    }
   }
  },
  {
   "cell_type": "code",
   "execution_count": 52,
   "outputs": [
    {
     "name": "stdout",
     "output_type": "stream",
     "text": [
      "            Time        V1        V2        V3        V4        V5        V6  \\\n",
      "26196    33948.0 -1.314140  0.322885  2.526366  0.205844  0.058926  0.162689   \n",
      "232499  147195.0 -0.210373  1.707828  0.289360  4.962992  0.728145  2.275366   \n",
      "49815    44224.0 -1.238342  0.811786 -0.497377  0.872691  2.578560 -2.603723   \n",
      "1741      1350.0 -1.219970  1.484974  1.247162 -0.792609 -0.127246 -0.913876   \n",
      "220346  142130.0 -2.479080  1.474393  0.800718 -1.568215  0.548161 -0.443480   \n",
      "243054  151769.0  2.025245 -1.335912 -1.198109 -1.116981 -1.203083 -1.176983   \n",
      "\n",
      "              V7        V8        V9  ...       V21       V22       V23  \\\n",
      "26196   0.128277  0.305185 -0.104935  ...  0.058374  0.152503 -0.100706   \n",
      "232499 -0.779174 -2.528164 -1.176290  ... -2.002516 -1.251858 -0.149100   \n",
      "49815   0.798482 -0.252029 -0.921667  ...  0.012223 -0.251404 -0.108145   \n",
      "1741    0.806929 -0.067242  0.451154  ... -0.274254 -0.379031 -0.055874   \n",
      "220346  0.904141  0.102933  1.401458  ... -0.830661 -1.409727  0.148751   \n",
      "243054 -0.550905 -0.222185  0.383477  ... -0.341897 -0.633607  0.194621   \n",
      "\n",
      "             V24       V25       V26       V27       V28  Amount  Class  \n",
      "26196  -0.015517  0.438705 -0.472103 -0.035978  0.079188   33.30      0  \n",
      "232499 -0.155104  0.091455  0.071056 -0.538879 -0.636992  105.93      0  \n",
      "49815   0.058252  0.166061 -0.519008  0.119719  0.251396    1.49      0  \n",
      "1741    0.425687 -0.034967  0.303731  0.623384  0.365637    5.00      0  \n",
      "220346  0.500429  0.855335 -1.030294  0.449904 -0.046297    4.54      0  \n",
      "243054 -0.134233 -0.406002  0.849777 -0.091165 -0.052375   97.97      0  \n",
      "\n",
      "[6 rows x 31 columns]\n"
     ]
    }
   ],
   "source": [
    "print(df.sample (6))"
   ],
   "metadata": {
    "collapsed": false,
    "pycharm": {
     "name": "#%%\n"
    }
   }
  },
  {
   "cell_type": "code",
   "execution_count": 53,
   "outputs": [
    {
     "name": "stdout",
     "output_type": "stream",
     "text": [
      "<class 'pandas.core.frame.DataFrame'>\n",
      "RangeIndex: 284807 entries, 0 to 284806\n",
      "Data columns (total 31 columns):\n",
      " #   Column  Non-Null Count   Dtype  \n",
      "---  ------  --------------   -----  \n",
      " 0   Time    284807 non-null  float64\n",
      " 1   V1      284807 non-null  float64\n",
      " 2   V2      284807 non-null  float64\n",
      " 3   V3      284807 non-null  float64\n",
      " 4   V4      284807 non-null  float64\n",
      " 5   V5      284807 non-null  float64\n",
      " 6   V6      284807 non-null  float64\n",
      " 7   V7      284807 non-null  float64\n",
      " 8   V8      284807 non-null  float64\n",
      " 9   V9      284807 non-null  float64\n",
      " 10  V10     284807 non-null  float64\n",
      " 11  V11     284807 non-null  float64\n",
      " 12  V12     284807 non-null  float64\n",
      " 13  V13     284807 non-null  float64\n",
      " 14  V14     284807 non-null  float64\n",
      " 15  V15     284807 non-null  float64\n",
      " 16  V16     284807 non-null  float64\n",
      " 17  V17     284807 non-null  float64\n",
      " 18  V18     284807 non-null  float64\n",
      " 19  V19     284807 non-null  float64\n",
      " 20  V20     284807 non-null  float64\n",
      " 21  V21     284807 non-null  float64\n",
      " 22  V22     284807 non-null  float64\n",
      " 23  V23     284807 non-null  float64\n",
      " 24  V24     284807 non-null  float64\n",
      " 25  V25     284807 non-null  float64\n",
      " 26  V26     284807 non-null  float64\n",
      " 27  V27     284807 non-null  float64\n",
      " 28  V28     284807 non-null  float64\n",
      " 29  Amount  284807 non-null  float64\n",
      " 30  Class   284807 non-null  int64  \n",
      "dtypes: float64(30), int64(1)\n",
      "memory usage: 67.4 MB\n"
     ]
    }
   ],
   "source": [
    "df.info()"
   ],
   "metadata": {
    "collapsed": false,
    "pycharm": {
     "name": "#%%\n"
    }
   }
  },
  {
   "cell_type": "code",
   "execution_count": 54,
   "outputs": [
    {
     "data": {
      "text/plain": "                Time         Amount\ncount  284807.000000  284807.000000\nmean    94813.859575      88.349619\nstd     47488.145955     250.120109\nmin         0.000000       0.000000\n25%     54201.500000       5.600000\n50%     84692.000000      22.000000\n75%    139320.500000      77.165000\nmax    172792.000000   25691.160000",
      "text/html": "<div>\n<style scoped>\n    .dataframe tbody tr th:only-of-type {\n        vertical-align: middle;\n    }\n\n    .dataframe tbody tr th {\n        vertical-align: top;\n    }\n\n    .dataframe thead th {\n        text-align: right;\n    }\n</style>\n<table border=\"1\" class=\"dataframe\">\n  <thead>\n    <tr style=\"text-align: right;\">\n      <th></th>\n      <th>Time</th>\n      <th>Amount</th>\n    </tr>\n  </thead>\n  <tbody>\n    <tr>\n      <th>count</th>\n      <td>284807.000000</td>\n      <td>284807.000000</td>\n    </tr>\n    <tr>\n      <th>mean</th>\n      <td>94813.859575</td>\n      <td>88.349619</td>\n    </tr>\n    <tr>\n      <th>std</th>\n      <td>47488.145955</td>\n      <td>250.120109</td>\n    </tr>\n    <tr>\n      <th>min</th>\n      <td>0.000000</td>\n      <td>0.000000</td>\n    </tr>\n    <tr>\n      <th>25%</th>\n      <td>54201.500000</td>\n      <td>5.600000</td>\n    </tr>\n    <tr>\n      <th>50%</th>\n      <td>84692.000000</td>\n      <td>22.000000</td>\n    </tr>\n    <tr>\n      <th>75%</th>\n      <td>139320.500000</td>\n      <td>77.165000</td>\n    </tr>\n    <tr>\n      <th>max</th>\n      <td>172792.000000</td>\n      <td>25691.160000</td>\n    </tr>\n  </tbody>\n</table>\n</div>"
     },
     "execution_count": 54,
     "metadata": {},
     "output_type": "execute_result"
    }
   ],
   "source": [
    "#numerical summary -> only non-anonymized columns of interest\n",
    "#pd.set_option('precision', 3)\n",
    "df.loc[:, ['Time', 'Amount']].describe()"
   ],
   "metadata": {
    "collapsed": false,
    "pycharm": {
     "name": "#%%\n"
    }
   }
  },
  {
   "cell_type": "code",
   "execution_count": 55,
   "outputs": [
    {
     "data": {
      "text/plain": "<AxesSubplot:title={'center':'Distribution of Time Feature'}, xlabel='Time', ylabel='Density'>"
     },
     "execution_count": 55,
     "metadata": {},
     "output_type": "execute_result"
    },
    {
     "data": {
      "text/plain": "<Figure size 432x432 with 1 Axes>",
      "image/png": "[encoded data removed]"
     },
     "metadata": {},
     "output_type": "display_data"
    }
   ],
   "source": [
    "#visualizations of time and amount\n",
    "plt.figure(figsize=(6,6))\n",
    "plt.title('Distribution of Time Feature')\n",
    "sns.distplot(df.Time , color= 'b')"
   ],
   "metadata": {
    "collapsed": false,
    "pycharm": {
     "name": "#%%\n"
    }
   }
  },
  {
   "cell_type": "code",
   "execution_count": 56,
   "outputs": [
    {
     "data": {
      "text/plain": "<AxesSubplot:title={'center':'Distribution of Monetary Value Feature'}, xlabel='Amount', ylabel='Density'>"
     },
     "execution_count": 56,
     "metadata": {},
     "output_type": "execute_result"
    },
    {
     "data": {
      "text/plain": "<Figure size 432x432 with 1 Axes>",
      "image/png": "[encoded data removed]"
     },
     "metadata": {},
     "output_type": "display_data"
    }
   ],
   "source": [
    "plt.figure(figsize=(6,6))\n",
    "plt.title('Distribution of Monetary Value Feature')\n",
    "sns.distplot(df.Amount , color='y')"
   ],
   "metadata": {
    "collapsed": false,
    "pycharm": {
     "name": "#%%\n"
    }
   }
  },
  {
   "cell_type": "code",
   "execution_count": 57,
   "outputs": [
    {
     "name": "stdout",
     "output_type": "stream",
     "text": [
      "There were 284315 non-fraudulent transactions (99.827%) and 492 fraudulent transactions (0.173%).\n"
     ]
    }
   ],
   "source": [
    "#fraud vs. normal transactions\n",
    "counts = df.Class.value_counts()\n",
    "normal = counts[0]\n",
    "fraudulent = counts[1]\n",
    "perc_normal = (normal/(normal+fraudulent))*100\n",
    "perc_fraudulent = (fraudulent/(normal+fraudulent))*100\n",
    "print('There were {} non-fraudulent transactions ({:.3f}%) and {} fraudulent transactions ({:.3f}%).'.format(normal, perc_normal, fraudulent, perc_fraudulent))"
   ],
   "metadata": {
    "collapsed": false,
    "pycharm": {
     "name": "#%%\n"
    }
   }
  },
  {
   "cell_type": "code",
   "execution_count": 58,
   "outputs": [
    {
     "data": {
      "text/plain": "Text(0.5, 0, 'Class (0:Non-Fraudulent, 1:Fraudulent)')"
     },
     "execution_count": 58,
     "metadata": {},
     "output_type": "execute_result"
    },
    {
     "data": {
      "text/plain": "<Figure size 432x432 with 1 Axes>",
      "image/png": "[encoded data removed]"
     },
     "metadata": {},
     "output_type": "display_data"
    }
   ],
   "source": [
    "plt.figure(figsize=(6,6))\n",
    "sns.barplot(x=counts.index, y=counts)\n",
    "plt.title('Count of Fraudulent vs. Non-Fraudulent Transactions')\n",
    "plt.ylabel('Count')\n",
    "plt.xlabel('Class (0:Non-Fraudulent, 1:Fraudulent)')"
   ],
   "metadata": {
    "collapsed": false,
    "pycharm": {
     "name": "#%%\n"
    }
   }
  },
  {
   "cell_type": "code",
   "execution_count": 59,
   "outputs": [
    {
     "data": {
      "text/plain": "            Time            V1            V2            V3            V4  \\\nTime    1.000000  1.173963e-01 -1.059333e-02 -4.196182e-01 -1.052602e-01   \nV1      0.117396  1.000000e+00  4.135835e-16 -1.227819e-15 -9.215150e-16   \nV2     -0.010593  4.135835e-16  1.000000e+00  3.243764e-16 -1.121065e-15   \nV3     -0.419618 -1.227819e-15  3.243764e-16  1.000000e+00  4.711293e-16   \nV4     -0.105260 -9.215150e-16 -1.121065e-15  4.711293e-16  1.000000e+00   \nV5      0.173072  1.812612e-17  5.157519e-16 -6.539009e-17 -1.719944e-15   \nV6     -0.063016 -6.506567e-16  2.787346e-16  1.627627e-15 -7.491959e-16   \nV7      0.084714 -1.005191e-15  2.055934e-16  4.895305e-16 -4.104503e-16   \nV8     -0.036949 -2.433822e-16 -5.377041e-17 -1.268779e-15  5.697192e-16   \nV9     -0.008660 -1.513678e-16  1.978488e-17  5.568367e-16  6.923247e-16   \nV10     0.030617  7.388135e-17 -3.991394e-16  1.156587e-15  2.232685e-16   \nV11    -0.247689  2.125498e-16  1.975426e-16  1.576830e-15  3.459380e-16   \nV12     0.124348  2.053457e-16 -9.568710e-17  6.310231e-16 -5.625518e-16   \nV13    -0.065902 -2.425603e-17  6.295388e-16  2.807652e-16  1.303306e-16   \nV14    -0.098757 -5.020280e-16 -1.730566e-16  4.739859e-16  2.282280e-16   \nV15    -0.183453  3.547782e-16 -4.995814e-17  9.068793e-16  1.377649e-16   \nV16     0.011903  7.212815e-17  1.177316e-17  8.299445e-16 -9.614528e-16   \nV17    -0.073297 -3.879840e-16 -2.685296e-16  7.614712e-16 -2.699612e-16   \nV18     0.090438  3.230206e-17  3.284605e-16  1.509897e-16 -5.103644e-16   \nV19     0.028975  1.502024e-16 -7.118719e-18  3.463522e-16 -3.980557e-16   \nV20    -0.050866  4.654551e-16  2.506675e-16 -9.316409e-16 -1.857247e-16   \nV21     0.044736 -2.457409e-16 -8.480447e-17  5.706192e-17 -1.949553e-16   \nV22     0.144059 -4.290944e-16  1.526333e-16 -1.133902e-15 -6.276051e-17   \nV23     0.051142  6.168652e-16  1.634231e-16 -4.983035e-16  9.164206e-17   \nV24    -0.016182 -4.425156e-17  1.247925e-17  2.686834e-19  1.584638e-16   \nV25    -0.233083 -9.605737e-16 -4.478846e-16 -1.104734e-15  6.070716e-16   \nV26    -0.041407 -1.581290e-17  2.057310e-16 -1.238062e-16 -4.247268e-16   \nV27    -0.005135  1.198124e-16 -4.966953e-16  1.045747e-15  3.977061e-17   \nV28    -0.009413  2.083082e-15 -5.093836e-16  9.775546e-16 -2.761403e-18   \nAmount -0.010596 -2.277087e-01 -5.314089e-01 -2.108805e-01  9.873167e-02   \nClass  -0.012323 -1.013473e-01  9.128865e-02 -1.929608e-01  1.334475e-01   \n\n                  V5            V6            V7            V8            V9  \\\nTime    1.730721e-01 -6.301647e-02  8.471437e-02 -3.694943e-02 -8.660434e-03   \nV1      1.812612e-17 -6.506567e-16 -1.005191e-15 -2.433822e-16 -1.513678e-16   \nV2      5.157519e-16  2.787346e-16  2.055934e-16 -5.377041e-17  1.978488e-17   \nV3     -6.539009e-17  1.627627e-15  4.895305e-16 -1.268779e-15  5.568367e-16   \nV4     -1.719944e-15 -7.491959e-16 -4.104503e-16  5.697192e-16  6.923247e-16   \nV5      1.000000e+00  2.408382e-16  2.715541e-16  7.437229e-16  7.391702e-16   \nV6      2.408382e-16  1.000000e+00  1.191668e-16 -1.104219e-16  4.131207e-16   \nV7      2.715541e-16  1.191668e-16  1.000000e+00  3.344412e-16  1.122501e-15   \nV8      7.437229e-16 -1.104219e-16  3.344412e-16  1.000000e+00  4.356078e-16   \nV9      7.391702e-16  4.131207e-16  1.122501e-15  4.356078e-16  1.000000e+00   \nV10    -5.202306e-16  5.932243e-17 -7.492834e-17 -2.801370e-16 -4.642274e-16   \nV11     7.203963e-16  1.980503e-15  1.425248e-16  2.487043e-16  1.354680e-16   \nV12     7.412552e-16  2.375468e-16 -3.536655e-18  1.839891e-16 -1.079314e-15   \nV13     5.886991e-16 -1.211182e-16  1.266462e-17 -2.921856e-16  2.251072e-15   \nV14     6.565143e-16  2.621312e-16  2.607772e-16 -8.599156e-16  3.784757e-15   \nV15    -8.720275e-16 -1.531188e-15 -1.690540e-16  4.127777e-16 -1.051167e-15   \nV16     2.246261e-15  2.623672e-18  5.869302e-17 -5.254741e-16 -1.214086e-15   \nV17     1.281914e-16  2.015618e-16  2.177192e-16 -2.269549e-16  1.113695e-15   \nV18     5.308590e-16  1.223814e-16  7.604126e-17 -3.667974e-16  4.993240e-16   \nV19    -1.450421e-16 -1.865597e-16 -1.881008e-16 -3.875186e-16 -1.376135e-16   \nV20    -3.554057e-16 -1.858755e-16  9.379684e-16  2.033737e-16 -2.343720e-16   \nV21    -3.920976e-16  5.833316e-17 -2.027779e-16  3.892798e-16  1.936953e-16   \nV22     1.253751e-16 -4.705235e-19 -8.898922e-16  2.026927e-16 -7.071869e-16   \nV23    -8.428683e-18  1.046712e-16 -4.387401e-16  6.377260e-17 -5.214137e-16   \nV24    -1.149255e-15 -1.071589e-15  7.434913e-18 -1.047097e-16 -1.430343e-16   \nV25     4.808532e-16  4.562861e-16 -3.094082e-16 -4.653279e-16  6.757763e-16   \nV26     4.319541e-16 -1.357067e-16 -9.657637e-16 -1.727276e-16 -7.888853e-16   \nV27     6.590482e-16 -4.452461e-16 -1.782106e-15  1.299943e-16 -6.709655e-17   \nV28    -5.613951e-18  2.594754e-16 -2.776530e-16 -6.200930e-16  1.110541e-15   \nAmount -3.863563e-01  2.159812e-01  3.973113e-01 -1.030791e-01 -4.424560e-02   \nClass  -9.497430e-02 -4.364316e-02 -1.872566e-01  1.987512e-02 -9.773269e-02   \n\n        ...           V21           V22           V23           V24  \\\nTime    ...  4.473573e-02  1.440591e-01  5.114236e-02 -1.618187e-02   \nV1      ... -2.457409e-16 -4.290944e-16  6.168652e-16 -4.425156e-17   \nV2      ... -8.480447e-17  1.526333e-16  1.634231e-16  1.247925e-17   \nV3      ...  5.706192e-17 -1.133902e-15 -4.983035e-16  2.686834e-19   \nV4      ... -1.949553e-16 -6.276051e-17  9.164206e-17  1.584638e-16   \nV5      ... -3.920976e-16  1.253751e-16 -8.428683e-18 -1.149255e-15   \nV6      ...  5.833316e-17 -4.705235e-19  1.046712e-16 -1.071589e-15   \nV7      ... -2.027779e-16 -8.898922e-16 -4.387401e-16  7.434913e-18   \nV8      ...  3.892798e-16  2.026927e-16  6.377260e-17 -1.047097e-16   \nV9      ...  1.936953e-16 -7.071869e-16 -5.214137e-16 -1.430343e-16   \nV10     ...  1.177547e-15 -6.418202e-16  3.214491e-16 -1.355885e-16   \nV11     ... -5.658364e-16  7.772895e-16 -4.505332e-16  1.933267e-15   \nV12     ...  7.300527e-16  1.644699e-16  1.800885e-16  4.436512e-16   \nV13     ...  1.008461e-16  6.747721e-17 -7.132064e-16 -1.397470e-16   \nV14     ... -3.356561e-16  3.740383e-16  3.883204e-16  2.003482e-16   \nV15     ...  6.605263e-17 -4.208921e-16 -3.912243e-16 -4.478263e-16   \nV16     ... -4.715090e-16 -7.923387e-17  5.020770e-16 -3.005985e-16   \nV17     ... -8.230527e-16 -8.743398e-16  3.706214e-16 -2.403828e-16   \nV18     ... -9.408680e-16 -4.819365e-16 -1.912006e-16 -8.986916e-17   \nV19     ...  5.115885e-16 -1.163768e-15  7.032035e-16  2.587708e-17   \nV20     ... -7.614597e-16  1.009285e-15  2.712885e-16  1.277215e-16   \nV21     ...  1.000000e+00  3.649908e-15  8.119580e-16  1.761054e-16   \nV22     ...  3.649908e-15  1.000000e+00 -7.303916e-17  9.970809e-17   \nV23     ...  8.119580e-16 -7.303916e-17  1.000000e+00  2.130519e-17   \nV24     ...  1.761054e-16  9.970809e-17  2.130519e-17  1.000000e+00   \nV25     ... -1.686082e-16 -5.018575e-16 -8.232727e-17  1.015391e-15   \nV26     ... -5.557329e-16 -2.503187e-17  1.114524e-15  1.343722e-16   \nV27     ... -1.211281e-15  8.461337e-17  2.839721e-16 -2.274142e-16   \nV28     ...  5.278775e-16 -6.627203e-16  1.481903e-15 -2.819805e-16   \nAmount  ...  1.059989e-01 -6.480065e-02 -1.126326e-01  5.146217e-03   \nClass   ...  4.041338e-02  8.053175e-04 -2.685156e-03 -7.220907e-03   \n\n                 V25           V26           V27           V28    Amount  \\\nTime   -2.330828e-01 -4.140710e-02 -5.134591e-03 -9.412688e-03 -0.010596   \nV1     -9.605737e-16 -1.581290e-17  1.198124e-16  2.083082e-15 -0.227709   \nV2     -4.478846e-16  2.057310e-16 -4.966953e-16 -5.093836e-16 -0.531409   \nV3     -1.104734e-15 -1.238062e-16  1.045747e-15  9.775546e-16 -0.210880   \nV4      6.070716e-16 -4.247268e-16  3.977061e-17 -2.761403e-18  0.098732   \nV5      4.808532e-16  4.319541e-16  6.590482e-16 -5.613951e-18 -0.386356   \nV6      4.562861e-16 -1.357067e-16 -4.452461e-16  2.594754e-16  0.215981   \nV7     -3.094082e-16 -9.657637e-16 -1.782106e-15 -2.776530e-16  0.397311   \nV8     -4.653279e-16 -1.727276e-16  1.299943e-16 -6.200930e-16 -0.103079   \nV9      6.757763e-16 -7.888853e-16 -6.709655e-17  1.110541e-15 -0.044246   \nV10    -2.846052e-16 -3.028119e-16 -2.197977e-16  4.864782e-17 -0.101502   \nV11    -5.600475e-16 -1.003221e-16 -2.640281e-16 -3.792314e-16  0.000104   \nV12    -5.712973e-16 -2.359969e-16 -4.672391e-16  6.415167e-16 -0.009542   \nV13    -5.497612e-16 -1.769255e-16 -4.720898e-16  1.144372e-15  0.005293   \nV14    -8.547932e-16 -1.660327e-16  1.044274e-16  2.289427e-15  0.033751   \nV15     3.206423e-16  2.817791e-16 -1.143519e-15 -1.194130e-15 -0.002986   \nV16    -1.345418e-15 -7.290010e-16  6.789513e-16  7.588849e-16 -0.003910   \nV17     2.666806e-16  6.932833e-16  6.148525e-16 -5.534540e-17  0.007309   \nV18    -6.629212e-17  2.990167e-16  2.242791e-16  7.976796e-16  0.035650   \nV19     9.577163e-16  5.898033e-16 -2.959370e-16 -1.405379e-15 -0.056151   \nV20     1.410054e-16 -2.803504e-16 -1.138829e-15 -2.436795e-16  0.339403   \nV21    -1.686082e-16 -5.557329e-16 -1.211281e-15  5.278775e-16  0.105999   \nV22    -5.018575e-16 -2.503187e-17  8.461337e-17 -6.627203e-16 -0.064801   \nV23    -8.232727e-17  1.114524e-15  2.839721e-16  1.481903e-15 -0.112633   \nV24     1.015391e-15  1.343722e-16 -2.274142e-16 -2.819805e-16  0.005146   \nV25     1.000000e+00  2.646517e-15 -6.406679e-16 -7.008939e-16 -0.047837   \nV26     2.646517e-15  1.000000e+00 -3.667715e-16 -2.782204e-16 -0.003208   \nV27    -6.406679e-16 -3.667715e-16  1.000000e+00 -3.061287e-16  0.028825   \nV28    -7.008939e-16 -2.782204e-16 -3.061287e-16  1.000000e+00  0.010258   \nAmount -4.783686e-02 -3.208037e-03  2.882546e-02  1.025822e-02  1.000000   \nClass   3.307706e-03  4.455398e-03  1.757973e-02  9.536041e-03  0.005632   \n\n           Class  \nTime   -0.012323  \nV1     -0.101347  \nV2      0.091289  \nV3     -0.192961  \nV4      0.133447  \nV5     -0.094974  \nV6     -0.043643  \nV7     -0.187257  \nV8      0.019875  \nV9     -0.097733  \nV10    -0.216883  \nV11     0.154876  \nV12    -0.260593  \nV13    -0.004570  \nV14    -0.302544  \nV15    -0.004223  \nV16    -0.196539  \nV17    -0.326481  \nV18    -0.111485  \nV19     0.034783  \nV20     0.020090  \nV21     0.040413  \nV22     0.000805  \nV23    -0.002685  \nV24    -0.007221  \nV25     0.003308  \nV26     0.004455  \nV27     0.017580  \nV28     0.009536  \nAmount  0.005632  \nClass   1.000000  \n\n[31 rows x 31 columns]",
      "text/html": "<div>\n<style scoped>\n    .dataframe tbody tr th:only-of-type {\n        vertical-align: middle;\n    }\n\n    .dataframe tbody tr th {\n        vertical-align: top;\n    }\n\n    .dataframe thead th {\n        text-align: right;\n    }\n</style>\n<table border=\"1\" class=\"dataframe\">\n  <thead>\n    <tr style=\"text-align: right;\">\n      <th></th>\n      <th>Time</th>\n      <th>V1</th>\n      <th>V2</th>\n      <th>V3</th>\n      <th>V4</th>\n      <th>V5</th>\n      <th>V6</th>\n      <th>V7</th>\n      <th>V8</th>\n      <th>V9</th>\n      <th>...</th>\n      <th>V21</th>\n      <th>V22</th>\n      <th>V23</th>\n      <th>V24</th>\n      <th>V25</th>\n      <th>V26</th>\n      <th>V27</th>\n      <th>V28</th>\n      <th>Amount</th>\n      <th>Class</th>\n    </tr>\n  </thead>\n  <tbody>\n    <tr>\n      <th>Time</th>\n      <td>1.000000</td>\n      <td>1.173963e-01</td>\n      <td>-1.059333e-02</td>\n      <td>-4.196182e-01</td>\n      <td>-1.052602e-01</td>\n      <td>1.730721e-01</td>\n      <td>-6.301647e-02</td>\n      <td>8.471437e-02</td>\n      <td>-3.694943e-02</td>\n      <td>-8.660434e-03</td>\n      <td>...</td>\n      <td>4.473573e-02</td>\n      <td>1.440591e-01</td>\n      <td>5.114236e-02</td>\n      <td>-1.618187e-02</td>\n      <td>-2.330828e-01</td>\n      <td>-4.140710e-02</td>\n      <td>-5.134591e-03</td>\n      <td>-9.412688e-03</td>\n      <td>-0.010596</td>\n      <td>-0.012323</td>\n    </tr>\n    <tr>\n      <th>V1</th>\n      <td>0.117396</td>\n      <td>1.000000e+00</td>\n      <td>4.135835e-16</td>\n      <td>-1.227819e-15</td>\n      <td>-9.215150e-16</td>\n      <td>1.812612e-17</td>\n      <td>-6.506567e-16</td>\n      <td>-1.005191e-15</td>\n      <td>-2.433822e-16</td>\n      <td>-1.513678e-16</td>\n      <td>...</td>\n      <td>-2.457409e-16</td>\n      <td>-4.290944e-16</td>\n      <td>6.168652e-16</td>\n      <td>-4.425156e-17</td>\n      <td>-9.605737e-16</td>\n      <td>-1.581290e-17</td>\n      <td>1.198124e-16</td>\n      <td>2.083082e-15</td>\n      <td>-0.227709</td>\n      <td>-0.101347</td>\n    </tr>\n    <tr>\n      <th>V2</th>\n      <td>-0.010593</td>\n      <td>4.135835e-16</td>\n      <td>1.000000e+00</td>\n      <td>3.243764e-16</td>\n      <td>-1.121065e-15</td>\n      <td>5.157519e-16</td>\n      <td>2.787346e-16</td>\n      <td>2.055934e-16</td>\n      <td>-5.377041e-17</td>\n      <td>1.978488e-17</td>\n      <td>...</td>\n      <td>-8.480447e-17</td>\n      <td>1.526333e-16</td>\n      <td>1.634231e-16</td>\n      <td>1.247925e-17</td>\n      <td>-4.478846e-16</td>\n      <td>2.057310e-16</td>\n      <td>-4.966953e-16</td>\n      <td>-5.093836e-16</td>\n      <td>-0.531409</td>\n      <td>0.091289</td>\n    </tr>\n    <tr>\n      <th>V3</th>\n      <td>-0.419618</td>\n      <td>-1.227819e-15</td>\n      <td>3.243764e-16</td>\n      <td>1.000000e+00</td>\n      <td>4.711293e-16</td>\n      <td>-6.539009e-17</td>\n      <td>1.627627e-15</td>\n      <td>4.895305e-16</td>\n      <td>-1.268779e-15</td>\n      <td>5.568367e-16</td>\n      <td>...</td>\n      <td>5.706192e-17</td>\n      <td>-1.133902e-15</td>\n      <td>-4.983035e-16</td>\n      <td>2.686834e-19</td>\n      <td>-1.104734e-15</td>\n      <td>-1.238062e-16</td>\n      <td>1.045747e-15</td>\n      <td>9.775546e-16</td>\n      <td>-0.210880</td>\n      <td>-0.192961</td>\n    </tr>\n    <tr>\n      <th>V4</th>\n      <td>-0.105260</td>\n      <td>-9.215150e-16</td>\n      <td>-1.121065e-15</td>\n      <td>4.711293e-16</td>\n      <td>1.000000e+00</td>\n      <td>-1.719944e-15</td>\n      <td>-7.491959e-16</td>\n      <td>-4.104503e-16</td>\n      <td>5.697192e-16</td>\n      <td>6.923247e-16</td>\n      <td>...</td>\n      <td>-1.949553e-16</td>\n      <td>-6.276051e-17</td>\n      <td>9.164206e-17</td>\n      <td>1.584638e-16</td>\n      <td>6.070716e-16</td>\n      <td>-4.247268e-16</td>\n      <td>3.977061e-17</td>\n      <td>-2.761403e-18</td>\n      <td>0.098732</td>\n      <td>0.133447</td>\n    </tr>\n    <tr>\n      <th>V5</th>\n      <td>0.173072</td>\n      <td>1.812612e-17</td>\n      <td>5.157519e-16</td>\n      <td>-6.539009e-17</td>\n      <td>-1.719944e-15</td>\n      <td>1.000000e+00</td>\n      <td>2.408382e-16</td>\n      <td>2.715541e-16</td>\n      <td>7.437229e-16</td>\n      <td>7.391702e-16</td>\n      <td>...</td>\n      <td>-3.920976e-16</td>\n      <td>1.253751e-16</td>\n      <td>-8.428683e-18</td>\n      <td>-1.149255e-15</td>\n      <td>4.808532e-16</td>\n      <td>4.319541e-16</td>\n      <td>6.590482e-16</td>\n      <td>-5.613951e-18</td>\n      <td>-0.386356</td>\n      <td>-0.094974</td>\n    </tr>\n    <tr>\n      <th>V6</th>\n      <td>-0.063016</td>\n      <td>-6.506567e-16</td>\n      <td>2.787346e-16</td>\n      <td>1.627627e-15</td>\n      <td>-7.491959e-16</td>\n      <td>2.408382e-16</td>\n      <td>1.000000e+00</td>\n      <td>1.191668e-16</td>\n      <td>-1.104219e-16</td>\n      <td>4.131207e-16</td>\n      <td>...</td>\n      <td>5.833316e-17</td>\n      <td>-4.705235e-19</td>\n      <td>1.046712e-16</td>\n      <td>-1.071589e-15</td>\n      <td>4.562861e-16</td>\n      <td>-1.357067e-16</td>\n      <td>-4.452461e-16</td>\n      <td>2.594754e-16</td>\n      <td>0.215981</td>\n      <td>-0.043643</td>\n    </tr>\n    <tr>\n      <th>V7</th>\n      <td>0.084714</td>\n      <td>-1.005191e-15</td>\n      <td>2.055934e-16</td>\n      <td>4.895305e-16</td>\n      <td>-4.104503e-16</td>\n      <td>2.715541e-16</td>\n      <td>1.191668e-16</td>\n      <td>1.000000e+00</td>\n      <td>3.344412e-16</td>\n      <td>1.122501e-15</td>\n      <td>...</td>\n      <td>-2.027779e-16</td>\n      <td>-8.898922e-16</td>\n      <td>-4.387401e-16</td>\n      <td>7.434913e-18</td>\n      <td>-3.094082e-16</td>\n      <td>-9.657637e-16</td>\n      <td>-1.782106e-15</td>\n      <td>-2.776530e-16</td>\n      <td>0.397311</td>\n      <td>-0.187257</td>\n    </tr>\n    <tr>\n      <th>V8</th>\n      <td>-0.036949</td>\n      <td>-2.433822e-16</td>\n      <td>-5.377041e-17</td>\n      <td>-1.268779e-15</td>\n      <td>5.697192e-16</td>\n      <td>7.437229e-16</td>\n      <td>-1.104219e-16</td>\n      <td>3.344412e-16</td>\n      <td>1.000000e+00</td>\n      <td>4.356078e-16</td>\n      <td>...</td>\n      <td>3.892798e-16</td>\n      <td>2.026927e-16</td>\n      <td>6.377260e-17</td>\n      <td>-1.047097e-16</td>\n      <td>-4.653279e-16</td>\n      <td>-1.727276e-16</td>\n      <td>1.299943e-16</td>\n      <td>-6.200930e-16</td>\n      <td>-0.103079</td>\n      <td>0.019875</td>\n    </tr>\n    <tr>\n      <th>V9</th>\n      <td>-0.008660</td>\n      <td>-1.513678e-16</td>\n      <td>1.978488e-17</td>\n      <td>5.568367e-16</td>\n      <td>6.923247e-16</td>\n      <td>7.391702e-16</td>\n      <td>4.131207e-16</td>\n      <td>1.122501e-15</td>\n      <td>4.356078e-16</td>\n      <td>1.000000e+00</td>\n      <td>...</td>\n      <td>1.936953e-16</td>\n      <td>-7.071869e-16</td>\n      <td>-5.214137e-16</td>\n      <td>-1.430343e-16</td>\n      <td>6.757763e-16</td>\n      <td>-7.888853e-16</td>\n      <td>-6.709655e-17</td>\n      <td>1.110541e-15</td>\n      <td>-0.044246</td>\n      <td>-0.097733</td>\n    </tr>\n    <tr>\n      <th>V10</th>\n      <td>0.030617</td>\n      <td>7.388135e-17</td>\n      <td>-3.991394e-16</td>\n      <td>1.156587e-15</td>\n      <td>2.232685e-16</td>\n      <td>-5.202306e-16</td>\n      <td>5.932243e-17</td>\n      <td>-7.492834e-17</td>\n      <td>-2.801370e-16</td>\n      <td>-4.642274e-16</td>\n      <td>...</td>\n      <td>1.177547e-15</td>\n      <td>-6.418202e-16</td>\n      <td>3.214491e-16</td>\n      <td>-1.355885e-16</td>\n      <td>-2.846052e-16</td>\n      <td>-3.028119e-16</td>\n      <td>-2.197977e-16</td>\n      <td>4.864782e-17</td>\n      <td>-0.101502</td>\n      <td>-0.216883</td>\n    </tr>\n    <tr>\n      <th>V11</th>\n      <td>-0.247689</td>\n      <td>2.125498e-16</td>\n      <td>1.975426e-16</td>\n      <td>1.576830e-15</td>\n      <td>3.459380e-16</td>\n      <td>7.203963e-16</td>\n      <td>1.980503e-15</td>\n      <td>1.425248e-16</td>\n      <td>2.487043e-16</td>\n      <td>1.354680e-16</td>\n      <td>...</td>\n      <td>-5.658364e-16</td>\n      <td>7.772895e-16</td>\n      <td>-4.505332e-16</td>\n      <td>1.933267e-15</td>\n      <td>-5.600475e-16</td>\n      <td>-1.003221e-16</td>\n      <td>-2.640281e-16</td>\n      <td>-3.792314e-16</td>\n      <td>0.000104</td>\n      <td>0.154876</td>\n    </tr>\n    <tr>\n      <th>V12</th>\n      <td>0.124348</td>\n      <td>2.053457e-16</td>\n      <td>-9.568710e-17</td>\n      <td>6.310231e-16</td>\n      <td>-5.625518e-16</td>\n      <td>7.412552e-16</td>\n      <td>2.375468e-16</td>\n      <td>-3.536655e-18</td>\n      <td>1.839891e-16</td>\n      <td>-1.079314e-15</td>\n      <td>...</td>\n      <td>7.300527e-16</td>\n      <td>1.644699e-16</td>\n      <td>1.800885e-16</td>\n      <td>4.436512e-16</td>\n      <td>-5.712973e-16</td>\n      <td>-2.359969e-16</td>\n      <td>-4.672391e-16</td>\n      <td>6.415167e-16</td>\n      <td>-0.009542</td>\n      <td>-0.260593</td>\n    </tr>\n    <tr>\n      <th>V13</th>\n      <td>-0.065902</td>\n      <td>-2.425603e-17</td>\n      <td>6.295388e-16</td>\n      <td>2.807652e-16</td>\n      <td>1.303306e-16</td>\n      <td>5.886991e-16</td>\n      <td>-1.211182e-16</td>\n      <td>1.266462e-17</td>\n      <td>-2.921856e-16</td>\n      <td>2.251072e-15</td>\n      <td>...</td>\n      <td>1.008461e-16</td>\n      <td>6.747721e-17</td>\n      <td>-7.132064e-16</td>\n      <td>-1.397470e-16</td>\n      <td>-5.497612e-16</td>\n      <td>-1.769255e-16</td>\n      <td>-4.720898e-16</td>\n      <td>1.144372e-15</td>\n      <td>0.005293</td>\n      <td>-0.004570</td>\n    </tr>\n    <tr>\n      <th>V14</th>\n      <td>-0.098757</td>\n      <td>-5.020280e-16</td>\n      <td>-1.730566e-16</td>\n      <td>4.739859e-16</td>\n      <td>2.282280e-16</td>\n      <td>6.565143e-16</td>\n      <td>2.621312e-16</td>\n      <td>2.607772e-16</td>\n      <td>-8.599156e-16</td>\n      <td>3.784757e-15</td>\n      <td>...</td>\n      <td>-3.356561e-16</td>\n      <td>3.740383e-16</td>\n      <td>3.883204e-16</td>\n      <td>2.003482e-16</td>\n      <td>-8.547932e-16</td>\n      <td>-1.660327e-16</td>\n      <td>1.044274e-16</td>\n      <td>2.289427e-15</td>\n      <td>0.033751</td>\n      <td>-0.302544</td>\n    </tr>\n    <tr>\n      <th>V15</th>\n      <td>-0.183453</td>\n      <td>3.547782e-16</td>\n      <td>-4.995814e-17</td>\n      <td>9.068793e-16</td>\n      <td>1.377649e-16</td>\n      <td>-8.720275e-16</td>\n      <td>-1.531188e-15</td>\n      <td>-1.690540e-16</td>\n      <td>4.127777e-16</td>\n      <td>-1.051167e-15</td>\n      <td>...</td>\n      <td>6.605263e-17</td>\n      <td>-4.208921e-16</td>\n      <td>-3.912243e-16</td>\n      <td>-4.478263e-16</td>\n      <td>3.206423e-16</td>\n      <td>2.817791e-16</td>\n      <td>-1.143519e-15</td>\n      <td>-1.194130e-15</td>\n      <td>-0.002986</td>\n      <td>-0.004223</td>\n    </tr>\n    <tr>\n      <th>V16</th>\n      <td>0.011903</td>\n      <td>7.212815e-17</td>\n      <td>1.177316e-17</td>\n      <td>8.299445e-16</td>\n      <td>-9.614528e-16</td>\n      <td>2.246261e-15</td>\n      <td>2.623672e-18</td>\n      <td>5.869302e-17</td>\n      <td>-5.254741e-16</td>\n      <td>-1.214086e-15</td>\n      <td>...</td>\n      <td>-4.715090e-16</td>\n      <td>-7.923387e-17</td>\n      <td>5.020770e-16</td>\n      <td>-3.005985e-16</td>\n      <td>-1.345418e-15</td>\n      <td>-7.290010e-16</td>\n      <td>6.789513e-16</td>\n      <td>7.588849e-16</td>\n      <td>-0.003910</td>\n      <td>-0.196539</td>\n    </tr>\n    <tr>\n      <th>V17</th>\n      <td>-0.073297</td>\n      <td>-3.879840e-16</td>\n      <td>-2.685296e-16</td>\n      <td>7.614712e-16</td>\n      <td>-2.699612e-16</td>\n      <td>1.281914e-16</td>\n      <td>2.015618e-16</td>\n      <td>2.177192e-16</td>\n      <td>-2.269549e-16</td>\n      <td>1.113695e-15</td>\n      <td>...</td>\n      <td>-8.230527e-16</td>\n      <td>-8.743398e-16</td>\n      <td>3.706214e-16</td>\n      <td>-2.403828e-16</td>\n      <td>2.666806e-16</td>\n      <td>6.932833e-16</td>\n      <td>6.148525e-16</td>\n      <td>-5.534540e-17</td>\n      <td>0.007309</td>\n      <td>-0.326481</td>\n    </tr>\n    <tr>\n      <th>V18</th>\n      <td>0.090438</td>\n      <td>3.230206e-17</td>\n      <td>3.284605e-16</td>\n      <td>1.509897e-16</td>\n      <td>-5.103644e-16</td>\n      <td>5.308590e-16</td>\n      <td>1.223814e-16</td>\n      <td>7.604126e-17</td>\n      <td>-3.667974e-16</td>\n      <td>4.993240e-16</td>\n      <td>...</td>\n      <td>-9.408680e-16</td>\n      <td>-4.819365e-16</td>\n      <td>-1.912006e-16</td>\n      <td>-8.986916e-17</td>\n      <td>-6.629212e-17</td>\n      <td>2.990167e-16</td>\n      <td>2.242791e-16</td>\n      <td>7.976796e-16</td>\n      <td>0.035650</td>\n      <td>-0.111485</td>\n    </tr>\n    <tr>\n      <th>V19</th>\n      <td>0.028975</td>\n      <td>1.502024e-16</td>\n      <td>-7.118719e-18</td>\n      <td>3.463522e-16</td>\n      <td>-3.980557e-16</td>\n      <td>-1.450421e-16</td>\n      <td>-1.865597e-16</td>\n      <td>-1.881008e-16</td>\n      <td>-3.875186e-16</td>\n      <td>-1.376135e-16</td>\n      <td>...</td>\n      <td>5.115885e-16</td>\n      <td>-1.163768e-15</td>\n      <td>7.032035e-16</td>\n      <td>2.587708e-17</td>\n      <td>9.577163e-16</td>\n      <td>5.898033e-16</td>\n      <td>-2.959370e-16</td>\n      <td>-1.405379e-15</td>\n      <td>-0.056151</td>\n      <td>0.034783</td>\n    </tr>\n    <tr>\n      <th>V20</th>\n      <td>-0.050866</td>\n      <td>4.654551e-16</td>\n      <td>2.506675e-16</td>\n      <td>-9.316409e-16</td>\n      <td>-1.857247e-16</td>\n      <td>-3.554057e-16</td>\n      <td>-1.858755e-16</td>\n      <td>9.379684e-16</td>\n      <td>2.033737e-16</td>\n      <td>-2.343720e-16</td>\n      <td>...</td>\n      <td>-7.614597e-16</td>\n      <td>1.009285e-15</td>\n      <td>2.712885e-16</td>\n      <td>1.277215e-16</td>\n      <td>1.410054e-16</td>\n      <td>-2.803504e-16</td>\n      <td>-1.138829e-15</td>\n      <td>-2.436795e-16</td>\n      <td>0.339403</td>\n      <td>0.020090</td>\n    </tr>\n    <tr>\n      <th>V21</th>\n      <td>0.044736</td>\n      <td>-2.457409e-16</td>\n      <td>-8.480447e-17</td>\n      <td>5.706192e-17</td>\n      <td>-1.949553e-16</td>\n      <td>-3.920976e-16</td>\n      <td>5.833316e-17</td>\n      <td>-2.027779e-16</td>\n      <td>3.892798e-16</td>\n      <td>1.936953e-16</td>\n      <td>...</td>\n      <td>1.000000e+00</td>\n      <td>3.649908e-15</td>\n      <td>8.119580e-16</td>\n      <td>1.761054e-16</td>\n      <td>-1.686082e-16</td>\n      <td>-5.557329e-16</td>\n      <td>-1.211281e-15</td>\n      <td>5.278775e-16</td>\n      <td>0.105999</td>\n      <td>0.040413</td>\n    </tr>\n    <tr>\n      <th>V22</th>\n      <td>0.144059</td>\n      <td>-4.290944e-16</td>\n      <td>1.526333e-16</td>\n      <td>-1.133902e-15</td>\n      <td>-6.276051e-17</td>\n      <td>1.253751e-16</td>\n      <td>-4.705235e-19</td>\n      <td>-8.898922e-16</td>\n      <td>2.026927e-16</td>\n      <td>-7.071869e-16</td>\n      <td>...</td>\n      <td>3.649908e-15</td>\n      <td>1.000000e+00</td>\n      <td>-7.303916e-17</td>\n      <td>9.970809e-17</td>\n      <td>-5.018575e-16</td>\n      <td>-2.503187e-17</td>\n      <td>8.461337e-17</td>\n      <td>-6.627203e-16</td>\n      <td>-0.064801</td>\n      <td>0.000805</td>\n    </tr>\n    <tr>\n      <th>V23</th>\n      <td>0.051142</td>\n      <td>6.168652e-16</td>\n      <td>1.634231e-16</td>\n      <td>-4.983035e-16</td>\n      <td>9.164206e-17</td>\n      <td>-8.428683e-18</td>\n      <td>1.046712e-16</td>\n      <td>-4.387401e-16</td>\n      <td>6.377260e-17</td>\n      <td>-5.214137e-16</td>\n      <td>...</td>\n      <td>8.119580e-16</td>\n      <td>-7.303916e-17</td>\n      <td>1.000000e+00</td>\n      <td>2.130519e-17</td>\n      <td>-8.232727e-17</td>\n      <td>1.114524e-15</td>\n      <td>2.839721e-16</td>\n      <td>1.481903e-15</td>\n      <td>-0.112633</td>\n      <td>-0.002685</td>\n    </tr>\n    <tr>\n      <th>V24</th>\n      <td>-0.016182</td>\n      <td>-4.425156e-17</td>\n      <td>1.247925e-17</td>\n      <td>2.686834e-19</td>\n      <td>1.584638e-16</td>\n      <td>-1.149255e-15</td>\n      <td>-1.071589e-15</td>\n      <td>7.434913e-18</td>\n      <td>-1.047097e-16</td>\n      <td>-1.430343e-16</td>\n      <td>...</td>\n      <td>1.761054e-16</td>\n      <td>9.970809e-17</td>\n      <td>2.130519e-17</td>\n      <td>1.000000e+00</td>\n      <td>1.015391e-15</td>\n      <td>1.343722e-16</td>\n      <td>-2.274142e-16</td>\n      <td>-2.819805e-16</td>\n      <td>0.005146</td>\n      <td>-0.007221</td>\n    </tr>\n    <tr>\n      <th>V25</th>\n      <td>-0.233083</td>\n      <td>-9.605737e-16</td>\n      <td>-4.478846e-16</td>\n      <td>-1.104734e-15</td>\n      <td>6.070716e-16</td>\n      <td>4.808532e-16</td>\n      <td>4.562861e-16</td>\n      <td>-3.094082e-16</td>\n      <td>-4.653279e-16</td>\n      <td>6.757763e-16</td>\n      <td>...</td>\n      <td>-1.686082e-16</td>\n      <td>-5.018575e-16</td>\n      <td>-8.232727e-17</td>\n      <td>1.015391e-15</td>\n      <td>1.000000e+00</td>\n      <td>2.646517e-15</td>\n      <td>-6.406679e-16</td>\n      <td>-7.008939e-16</td>\n      <td>-0.047837</td>\n      <td>0.003308</td>\n    </tr>\n    <tr>\n      <th>V26</th>\n      <td>-0.041407</td>\n      <td>-1.581290e-17</td>\n      <td>2.057310e-16</td>\n      <td>-1.238062e-16</td>\n      <td>-4.247268e-16</td>\n      <td>4.319541e-16</td>\n      <td>-1.357067e-16</td>\n      <td>-9.657637e-16</td>\n      <td>-1.727276e-16</td>\n      <td>-7.888853e-16</td>\n      <td>...</td>\n      <td>-5.557329e-16</td>\n      <td>-2.503187e-17</td>\n      <td>1.114524e-15</td>\n      <td>1.343722e-16</td>\n      <td>2.646517e-15</td>\n      <td>1.000000e+00</td>\n      <td>-3.667715e-16</td>\n      <td>-2.782204e-16</td>\n      <td>-0.003208</td>\n      <td>0.004455</td>\n    </tr>\n    <tr>\n      <th>V27</th>\n      <td>-0.005135</td>\n      <td>1.198124e-16</td>\n      <td>-4.966953e-16</td>\n      <td>1.045747e-15</td>\n      <td>3.977061e-17</td>\n      <td>6.590482e-16</td>\n      <td>-4.452461e-16</td>\n      <td>-1.782106e-15</td>\n      <td>1.299943e-16</td>\n      <td>-6.709655e-17</td>\n      <td>...</td>\n      <td>-1.211281e-15</td>\n      <td>8.461337e-17</td>\n      <td>2.839721e-16</td>\n      <td>-2.274142e-16</td>\n      <td>-6.406679e-16</td>\n      <td>-3.667715e-16</td>\n      <td>1.000000e+00</td>\n      <td>-3.061287e-16</td>\n      <td>0.028825</td>\n      <td>0.017580</td>\n    </tr>\n    <tr>\n      <th>V28</th>\n      <td>-0.009413</td>\n      <td>2.083082e-15</td>\n      <td>-5.093836e-16</td>\n      <td>9.775546e-16</td>\n      <td>-2.761403e-18</td>\n      <td>-5.613951e-18</td>\n      <td>2.594754e-16</td>\n      <td>-2.776530e-16</td>\n      <td>-6.200930e-16</td>\n      <td>1.110541e-15</td>\n      <td>...</td>\n      <td>5.278775e-16</td>\n      <td>-6.627203e-16</td>\n      <td>1.481903e-15</td>\n      <td>-2.819805e-16</td>\n      <td>-7.008939e-16</td>\n      <td>-2.782204e-16</td>\n      <td>-3.061287e-16</td>\n      <td>1.000000e+00</td>\n      <td>0.010258</td>\n      <td>0.009536</td>\n    </tr>\n    <tr>\n      <th>Amount</th>\n      <td>-0.010596</td>\n      <td>-2.277087e-01</td>\n      <td>-5.314089e-01</td>\n      <td>-2.108805e-01</td>\n      <td>9.873167e-02</td>\n      <td>-3.863563e-01</td>\n      <td>2.159812e-01</td>\n      <td>3.973113e-01</td>\n      <td>-1.030791e-01</td>\n      <td>-4.424560e-02</td>\n      <td>...</td>\n      <td>1.059989e-01</td>\n      <td>-6.480065e-02</td>\n      <td>-1.126326e-01</td>\n      <td>5.146217e-03</td>\n      <td>-4.783686e-02</td>\n      <td>-3.208037e-03</td>\n      <td>2.882546e-02</td>\n      <td>1.025822e-02</td>\n      <td>1.000000</td>\n      <td>0.005632</td>\n    </tr>\n    <tr>\n      <th>Class</th>\n      <td>-0.012323</td>\n      <td>-1.013473e-01</td>\n      <td>9.128865e-02</td>\n      <td>-1.929608e-01</td>\n      <td>1.334475e-01</td>\n      <td>-9.497430e-02</td>\n      <td>-4.364316e-02</td>\n      <td>-1.872566e-01</td>\n      <td>1.987512e-02</td>\n      <td>-9.773269e-02</td>\n      <td>...</td>\n      <td>4.041338e-02</td>\n      <td>8.053175e-04</td>\n      <td>-2.685156e-03</td>\n      <td>-7.220907e-03</td>\n      <td>3.307706e-03</td>\n      <td>4.455398e-03</td>\n      <td>1.757973e-02</td>\n      <td>9.536041e-03</td>\n      <td>0.005632</td>\n      <td>1.000000</td>\n    </tr>\n  </tbody>\n</table>\n<p>31 rows × 31 columns</p>\n</div>"
     },
     "execution_count": 59,
     "metadata": {},
     "output_type": "execute_result"
    }
   ],
   "source": [
    "corr = df.corr()\n",
    "corr"
   ],
   "metadata": {
    "collapsed": false,
    "pycharm": {
     "name": "#%%\n"
    }
   }
  },
  {
   "cell_type": "code",
   "execution_count": 60,
   "outputs": [
    {
     "data": {
      "text/plain": "Text(0.5, 1.0, 'Heatmap of Correlation')"
     },
     "execution_count": 60,
     "metadata": {},
     "output_type": "execute_result"
    },
    {
     "data": {
      "text/plain": "<Figure size 864x720 with 2 Axes>",
      "image/png": "[encoded data removed]"
     },
     "metadata": {},
     "output_type": "display_data"
    }
   ],
   "source": [
    "#heatmap\n",
    "corr = df.corr()\n",
    "plt.figure(figsize=(12,10))\n",
    "heat = sns.heatmap(data=corr)\n",
    "plt.title('Heatmap of Correlation')"
   ],
   "metadata": {
    "collapsed": false,
    "pycharm": {
     "name": "#%%\n"
    }
   }
  },
  {
   "cell_type": "code",
   "execution_count": 61,
   "outputs": [
    {
     "data": {
      "text/plain": "Time      -0.035568\nV1        -3.280667\nV2        -4.624866\nV3        -2.240155\nV4         0.676292\nV5        -2.425901\nV6         1.826581\nV7         2.553907\nV8        -8.521944\nV9         0.554680\nV10        1.187141\nV11        0.356506\nV12       -2.278401\nV13        0.065233\nV14       -1.995176\nV15       -0.308423\nV16       -1.100966\nV17       -3.844914\nV18       -0.259880\nV19        0.109192\nV20       -2.037155\nV21        3.592991\nV22       -0.213258\nV23       -5.875140\nV24       -0.552499\nV25       -0.415793\nV26        0.576693\nV27       -1.170209\nV28       11.192091\nAmount    16.977724\nClass     23.997579\ndtype: float64"
     },
     "execution_count": 61,
     "metadata": {},
     "output_type": "execute_result"
    }
   ],
   "source": [
    "#skewness\n",
    "skew_ = df.skew()\n",
    "skew_"
   ],
   "metadata": {
    "collapsed": false,
    "pycharm": {
     "name": "#%%\n"
    }
   }
  },
  {
   "cell_type": "code",
   "execution_count": 62,
   "outputs": [],
   "source": [
    "from sklearn.preprocessing import StandardScaler\n",
    "scaler = StandardScaler()\n",
    "scaler2 = StandardScaler()\n",
    "#scaling time\n",
    "scaled_time = scaler.fit_transform(df[['Time']])\n",
    "flat_list1 = [item for sublist in scaled_time.tolist() for item in sublist]\n",
    "scaled_time = pd.Series(flat_list1)"
   ],
   "metadata": {
    "collapsed": false,
    "pycharm": {
     "name": "#%%\n"
    }
   }
  },
  {
   "cell_type": "code",
   "execution_count": 63,
   "outputs": [],
   "source": [
    "#scaling the amount column\n",
    "scaled_amount = scaler2.fit_transform(df[['Amount']])\n",
    "flat_list2 = [item for sublist in scaled_amount.tolist() for item in sublist]\n",
    "scaled_amount = pd.Series(flat_list2)"
   ],
   "metadata": {
    "collapsed": false,
    "pycharm": {
     "name": "#%%\n"
    }
   }
  },
  {
   "cell_type": "code",
   "execution_count": 64,
   "outputs": [
    {
     "data": {
      "text/plain": "            Time        V1        V2        V3        V4        V5        V6  \\\n230358  146302.0  1.994212  0.178913 -1.533691  1.292854  0.415612 -0.885289   \n64982    51386.0 -0.878936 -1.105542  1.148136 -1.220224 -0.880409  1.586768   \n104242   68976.0  1.164076 -0.058952  1.135773  0.942149 -1.013944 -0.574004   \n29313    35415.0  1.096275 -0.140654  1.457531  0.934940 -1.095250 -0.124415   \n48466    43657.0  0.664435 -1.733572 -1.708961 -1.015887  1.300251  3.297151   \n\n              V7        V8        V9  ...       V23       V24       V25  \\\n230358  0.506487 -0.253692 -0.003317  ...  0.007563  0.012344  0.406204   \n64982   1.381670  0.002646  1.791954  ...  0.395452 -1.307147  0.577272   \n104242 -0.387440 -0.075922  0.648267  ... -0.081563  0.820406  0.479127   \n29313  -0.629332  0.127189  0.762121  ...  0.113888  0.665625  0.137959   \n48466  -0.202404  0.625900 -1.314966  ... -0.040284  0.939150 -0.026470   \n\n             V26       V27       V28  Amount  Class  scaled_amount  \\\n230358 -0.510036 -0.019495 -0.073511    1.00      0      -0.349231   \n64982  -0.441379 -0.123972 -0.141117  395.00      0       1.226015   \n104242  0.485404  0.010173  0.025739   15.52      0      -0.291179   \n29313   0.310584  0.039213  0.031464   11.50      0      -0.307251   \n48466  -0.049024 -0.099047  0.084492  405.10      0       1.266395   \n\n        scaled_time  \n230358     1.084233  \n64982     -0.914501  \n104242    -0.544092  \n29313     -1.250817  \n48466     -1.077257  \n\n[5 rows x 33 columns]",
      "text/html": "<div>\n<style scoped>\n    .dataframe tbody tr th:only-of-type {\n        vertical-align: middle;\n    }\n\n    .dataframe tbody tr th {\n        vertical-align: top;\n    }\n\n    .dataframe thead th {\n        text-align: right;\n    }\n</style>\n<table border=\"1\" class=\"dataframe\">\n  <thead>\n    <tr style=\"text-align: right;\">\n      <th></th>\n      <th>Time</th>\n      <th>V1</th>\n      <th>V2</th>\n      <th>V3</th>\n      <th>V4</th>\n      <th>V5</th>\n      <th>V6</th>\n      <th>V7</th>\n      <th>V8</th>\n      <th>V9</th>\n      <th>...</th>\n      <th>V23</th>\n      <th>V24</th>\n      <th>V25</th>\n      <th>V26</th>\n      <th>V27</th>\n      <th>V28</th>\n      <th>Amount</th>\n      <th>Class</th>\n      <th>scaled_amount</th>\n      <th>scaled_time</th>\n    </tr>\n  </thead>\n  <tbody>\n    <tr>\n      <th>230358</th>\n      <td>146302.0</td>\n      <td>1.994212</td>\n      <td>0.178913</td>\n      <td>-1.533691</td>\n      <td>1.292854</td>\n      <td>0.415612</td>\n      <td>-0.885289</td>\n      <td>0.506487</td>\n      <td>-0.253692</td>\n      <td>-0.003317</td>\n      <td>...</td>\n      <td>0.007563</td>\n      <td>0.012344</td>\n      <td>0.406204</td>\n      <td>-0.510036</td>\n      <td>-0.019495</td>\n      <td>-0.073511</td>\n      <td>1.00</td>\n      <td>0</td>\n      <td>-0.349231</td>\n      <td>1.084233</td>\n    </tr>\n    <tr>\n      <th>64982</th>\n      <td>51386.0</td>\n      <td>-0.878936</td>\n      <td>-1.105542</td>\n      <td>1.148136</td>\n      <td>-1.220224</td>\n      <td>-0.880409</td>\n      <td>1.586768</td>\n      <td>1.381670</td>\n      <td>0.002646</td>\n      <td>1.791954</td>\n      <td>...</td>\n      <td>0.395452</td>\n      <td>-1.307147</td>\n      <td>0.577272</td>\n      <td>-0.441379</td>\n      <td>-0.123972</td>\n      <td>-0.141117</td>\n      <td>395.00</td>\n      <td>0</td>\n      <td>1.226015</td>\n      <td>-0.914501</td>\n    </tr>\n    <tr>\n      <th>104242</th>\n      <td>68976.0</td>\n      <td>1.164076</td>\n      <td>-0.058952</td>\n      <td>1.135773</td>\n      <td>0.942149</td>\n      <td>-1.013944</td>\n      <td>-0.574004</td>\n      <td>-0.387440</td>\n      <td>-0.075922</td>\n      <td>0.648267</td>\n      <td>...</td>\n      <td>-0.081563</td>\n      <td>0.820406</td>\n      <td>0.479127</td>\n      <td>0.485404</td>\n      <td>0.010173</td>\n      <td>0.025739</td>\n      <td>15.52</td>\n      <td>0</td>\n      <td>-0.291179</td>\n      <td>-0.544092</td>\n    </tr>\n    <tr>\n      <th>29313</th>\n      <td>35415.0</td>\n      <td>1.096275</td>\n      <td>-0.140654</td>\n      <td>1.457531</td>\n      <td>0.934940</td>\n      <td>-1.095250</td>\n      <td>-0.124415</td>\n      <td>-0.629332</td>\n      <td>0.127189</td>\n      <td>0.762121</td>\n      <td>...</td>\n      <td>0.113888</td>\n      <td>0.665625</td>\n      <td>0.137959</td>\n      <td>0.310584</td>\n      <td>0.039213</td>\n      <td>0.031464</td>\n      <td>11.50</td>\n      <td>0</td>\n      <td>-0.307251</td>\n      <td>-1.250817</td>\n    </tr>\n    <tr>\n      <th>48466</th>\n      <td>43657.0</td>\n      <td>0.664435</td>\n      <td>-1.733572</td>\n      <td>-1.708961</td>\n      <td>-1.015887</td>\n      <td>1.300251</td>\n      <td>3.297151</td>\n      <td>-0.202404</td>\n      <td>0.625900</td>\n      <td>-1.314966</td>\n      <td>...</td>\n      <td>-0.040284</td>\n      <td>0.939150</td>\n      <td>-0.026470</td>\n      <td>-0.049024</td>\n      <td>-0.099047</td>\n      <td>0.084492</td>\n      <td>405.10</td>\n      <td>0</td>\n      <td>1.266395</td>\n      <td>-1.077257</td>\n    </tr>\n  </tbody>\n</table>\n<p>5 rows × 33 columns</p>\n</div>"
     },
     "execution_count": 64,
     "metadata": {},
     "output_type": "execute_result"
    }
   ],
   "source": [
    "#concatenating newly created columns w original df\n",
    "df = pd.concat([df, scaled_amount.rename('scaled_amount'), scaled_time.rename('scaled_time')], axis=1)\n",
    "df.sample(5)"
   ],
   "metadata": {
    "collapsed": false,
    "pycharm": {
     "name": "#%%\n"
    }
   }
  },
  {
   "cell_type": "code",
   "execution_count": 65,
   "outputs": [],
   "source": [
    "#dropping old amount and time columns\n",
    "df.drop(['Amount', 'Time'], axis=1, inplace=True)"
   ],
   "metadata": {
    "collapsed": false,
    "pycharm": {
     "name": "#%%\n"
    }
   }
  },
  {
   "cell_type": "code",
   "execution_count": 66,
   "outputs": [
    {
     "name": "stdout",
     "output_type": "stream",
     "text": [
      "Train Shape: (256581, 31)\n",
      "Test Shape: (28226, 31)\n"
     ]
    }
   ],
   "source": [
    "#manual train test split using numpy's random.rand\n",
    "mask = np.random.rand(len(df)) < 0.9\n",
    "train = df[mask]\n",
    "test = df[~mask]\n",
    "print('Train Shape: {}\\nTest Shape: {}'.format(train.shape, test.shape))"
   ],
   "metadata": {
    "collapsed": false,
    "pycharm": {
     "name": "#%%\n"
    }
   }
  },
  {
   "cell_type": "code",
   "execution_count": 67,
   "outputs": [],
   "source": [
    "train.reset_index(drop=True, inplace=True)\n",
    "test.reset_index(drop=True, inplace=True)"
   ],
   "metadata": {
    "collapsed": false,
    "pycharm": {
     "name": "#%%\n"
    }
   }
  },
  {
   "cell_type": "code",
   "execution_count": 68,
   "outputs": [
    {
     "name": "stdout",
     "output_type": "stream",
     "text": [
      "There are 437 fraudulent transactions in the train data.\n"
     ]
    }
   ],
   "source": [
    "#how many random samples from normal transactions do we need?\n",
    "no_of_frauds = train.Class.value_counts()[1]\n",
    "print('There are {} fraudulent transactions in the train data.'.format(no_of_frauds))"
   ],
   "metadata": {
    "collapsed": false,
    "pycharm": {
     "name": "#%%\n"
    }
   }
  },
  {
   "cell_type": "code",
   "execution_count": 69,
   "outputs": [],
   "source": [
    "#randomly selecting 442 random non-fraudulent transactions\n",
    "non_fraud = train[train['Class'] == 0]\n",
    "fraud = train[train['Class'] == 1]"
   ],
   "metadata": {
    "collapsed": false,
    "pycharm": {
     "name": "#%%\n"
    }
   }
  },
  {
   "cell_type": "code",
   "execution_count": 70,
   "outputs": [
    {
     "data": {
      "text/plain": "              V1        V2        V3        V4        V5        V6        V7  \\\n238012 -0.082845  0.983903  0.883923  0.987807  0.479347 -0.643126  0.851173   \n120913  1.159333  0.176960  0.298640  1.193028  0.084470  0.331810 -0.046998   \n219594 -2.717290  1.077626 -2.084235 -0.628211 -0.190024 -1.561881  0.310328   \n197732  1.559433 -1.081582 -0.350059  1.863638 -1.011854  0.008372 -0.476366   \n27916   1.365819 -1.207325  0.886255 -1.419808 -1.700462 -0.123164 -1.393221   \n\n              V8        V9       V10  ...       V22       V23       V24  \\\n238012 -0.497938 -0.497289  0.567948  ... -0.294740 -0.090350  0.113166   \n120913  0.151074  0.044219  0.046074  ...  0.005086 -0.109312 -0.285938   \n219594  1.067565  0.661381 -2.243183  ...  0.454111  0.056516 -0.243907   \n197732  0.080013  1.796242 -0.055722  ...  0.994748 -0.209497  0.000383   \n27916   0.114857 -1.904472  1.538162  ...  0.513248  0.024436  0.222314   \n\n             V25       V26       V27       V28  Class  scaled_amount  \\\n238012 -0.653535  0.592365  0.122974 -0.004569      0      -0.346113   \n120913  0.681984 -0.309341  0.037473  0.001392      0      -0.349231   \n219594  0.359670 -0.593489  0.530728 -0.148146      0      -0.153325   \n197732  0.187259 -0.303140  0.030212 -0.010295      0       0.430396   \n27916   0.210542 -0.105959  0.063006  0.019053      0      -0.237285   \n\n        scaled_time  \n238012     1.399344  \n120913    -0.297377  \n219594     1.204727  \n197732     0.987535  \n27916     -1.235402  \n\n[5 rows x 31 columns]",
      "text/html": "<div>\n<style scoped>\n    .dataframe tbody tr th:only-of-type {\n        vertical-align: middle;\n    }\n\n    .dataframe tbody tr th {\n        vertical-align: top;\n    }\n\n    .dataframe thead th {\n        text-align: right;\n    }\n</style>\n<table border=\"1\" class=\"dataframe\">\n  <thead>\n    <tr style=\"text-align: right;\">\n      <th></th>\n      <th>V1</th>\n      <th>V2</th>\n      <th>V3</th>\n      <th>V4</th>\n      <th>V5</th>\n      <th>V6</th>\n      <th>V7</th>\n      <th>V8</th>\n      <th>V9</th>\n      <th>V10</th>\n      <th>...</th>\n      <th>V22</th>\n      <th>V23</th>\n      <th>V24</th>\n      <th>V25</th>\n      <th>V26</th>\n      <th>V27</th>\n      <th>V28</th>\n      <th>Class</th>\n      <th>scaled_amount</th>\n      <th>scaled_time</th>\n    </tr>\n  </thead>\n  <tbody>\n    <tr>\n      <th>238012</th>\n      <td>-0.082845</td>\n      <td>0.983903</td>\n      <td>0.883923</td>\n      <td>0.987807</td>\n      <td>0.479347</td>\n      <td>-0.643126</td>\n      <td>0.851173</td>\n      <td>-0.497938</td>\n      <td>-0.497289</td>\n      <td>0.567948</td>\n      <td>...</td>\n      <td>-0.294740</td>\n      <td>-0.090350</td>\n      <td>0.113166</td>\n      <td>-0.653535</td>\n      <td>0.592365</td>\n      <td>0.122974</td>\n      <td>-0.004569</td>\n      <td>0</td>\n      <td>-0.346113</td>\n      <td>1.399344</td>\n    </tr>\n    <tr>\n      <th>120913</th>\n      <td>1.159333</td>\n      <td>0.176960</td>\n      <td>0.298640</td>\n      <td>1.193028</td>\n      <td>0.084470</td>\n      <td>0.331810</td>\n      <td>-0.046998</td>\n      <td>0.151074</td>\n      <td>0.044219</td>\n      <td>0.046074</td>\n      <td>...</td>\n      <td>0.005086</td>\n      <td>-0.109312</td>\n      <td>-0.285938</td>\n      <td>0.681984</td>\n      <td>-0.309341</td>\n      <td>0.037473</td>\n      <td>0.001392</td>\n      <td>0</td>\n      <td>-0.349231</td>\n      <td>-0.297377</td>\n    </tr>\n    <tr>\n      <th>219594</th>\n      <td>-2.717290</td>\n      <td>1.077626</td>\n      <td>-2.084235</td>\n      <td>-0.628211</td>\n      <td>-0.190024</td>\n      <td>-1.561881</td>\n      <td>0.310328</td>\n      <td>1.067565</td>\n      <td>0.661381</td>\n      <td>-2.243183</td>\n      <td>...</td>\n      <td>0.454111</td>\n      <td>0.056516</td>\n      <td>-0.243907</td>\n      <td>0.359670</td>\n      <td>-0.593489</td>\n      <td>0.530728</td>\n      <td>-0.148146</td>\n      <td>0</td>\n      <td>-0.153325</td>\n      <td>1.204727</td>\n    </tr>\n    <tr>\n      <th>197732</th>\n      <td>1.559433</td>\n      <td>-1.081582</td>\n      <td>-0.350059</td>\n      <td>1.863638</td>\n      <td>-1.011854</td>\n      <td>0.008372</td>\n      <td>-0.476366</td>\n      <td>0.080013</td>\n      <td>1.796242</td>\n      <td>-0.055722</td>\n      <td>...</td>\n      <td>0.994748</td>\n      <td>-0.209497</td>\n      <td>0.000383</td>\n      <td>0.187259</td>\n      <td>-0.303140</td>\n      <td>0.030212</td>\n      <td>-0.010295</td>\n      <td>0</td>\n      <td>0.430396</td>\n      <td>0.987535</td>\n    </tr>\n    <tr>\n      <th>27916</th>\n      <td>1.365819</td>\n      <td>-1.207325</td>\n      <td>0.886255</td>\n      <td>-1.419808</td>\n      <td>-1.700462</td>\n      <td>-0.123164</td>\n      <td>-1.393221</td>\n      <td>0.114857</td>\n      <td>-1.904472</td>\n      <td>1.538162</td>\n      <td>...</td>\n      <td>0.513248</td>\n      <td>0.024436</td>\n      <td>0.222314</td>\n      <td>0.210542</td>\n      <td>-0.105959</td>\n      <td>0.063006</td>\n      <td>0.019053</td>\n      <td>0</td>\n      <td>-0.237285</td>\n      <td>-1.235402</td>\n    </tr>\n  </tbody>\n</table>\n<p>5 rows × 31 columns</p>\n</div>"
     },
     "execution_count": 70,
     "metadata": {},
     "output_type": "execute_result"
    }
   ],
   "source": [
    "selected = non_fraud.sample(no_of_frauds)\n",
    "selected.head()"
   ],
   "metadata": {
    "collapsed": false,
    "pycharm": {
     "name": "#%%\n"
    }
   }
  },
  {
   "cell_type": "code",
   "execution_count": 71,
   "outputs": [],
   "source": [
    "#concatenating both into a subsample data set with equal class distribution\n",
    "selected.reset_index(drop=True, inplace=True)\n",
    "fraud.reset_index(drop=True, inplace=True)"
   ],
   "metadata": {
    "collapsed": false,
    "pycharm": {
     "name": "#%%\n"
    }
   }
  },
  {
   "cell_type": "code",
   "execution_count": 72,
   "outputs": [
    {
     "data": {
      "text/plain": "874"
     },
     "execution_count": 72,
     "metadata": {},
     "output_type": "execute_result"
    }
   ],
   "source": [
    "subsample = pd.concat([selected, fraud])\n",
    "len(subsample)"
   ],
   "metadata": {
    "collapsed": false,
    "pycharm": {
     "name": "#%%\n"
    }
   }
  },
  {
   "cell_type": "code",
   "execution_count": 73,
   "outputs": [
    {
     "data": {
      "text/plain": "          V1         V2         V3        V4         V5        V6         V7  \\\n0 -16.526507   8.584972 -18.649853  9.505594 -13.793819 -2.832404 -16.701694   \n1 -16.598665  10.541751 -19.818982  6.017295 -13.025901 -4.128779 -14.118865   \n2   0.666674  -0.383658  -0.288232  1.479784  -0.172068 -0.780203   0.877562   \n3   1.350821  -0.488790  -0.152951 -0.667127  -0.779933 -1.011976  -0.183167   \n4 -10.632375   7.251936 -17.681072  8.204144 -10.166591 -4.510344 -12.981606   \n5  -4.423508   1.648048  -6.934388  4.894601  -5.078131  0.010849  -3.409096   \n6  -0.738664  -1.325445   2.662674 -2.822248  -1.427438 -0.254113  -1.136939   \n7   1.214613   0.317695   0.463319  1.118006  -0.368664 -0.881592   0.133159   \n8  -0.852343   0.794752   1.280653  0.595867  -0.061721  0.424459  -0.126453   \n9  -0.244125   1.332023  -0.334229 -0.509462   0.730313 -1.103245   1.020293   \n\n          V8        V9        V10  ...       V22       V23       V24  \\\n0   7.517344 -8.507059 -14.110184  ... -1.127670 -2.358579  0.673461   \n1  11.161144 -4.099551  -9.222826  ... -1.151606 -0.680052  0.108176   \n2  -0.324587 -0.449901  -0.082413  ...  0.112799 -0.323534  0.430247   \n3  -0.195880 -1.257735   0.911771  ... -0.515070 -0.044780  0.362767   \n4   6.783589 -4.659330 -14.924655  ...  0.695603 -1.138122  0.459442   \n5   1.409291 -3.260672  -7.781353  ...  0.487478  1.228698 -0.535217   \n6  -0.062598 -0.344698   0.639092  ...  1.042652 -0.170794  0.430669   \n7  -0.198850  0.028318  -0.012703  ... -0.120358 -0.030583  0.379109   \n8   0.736509 -0.601312  -0.495973  ... -0.146433 -0.131516 -0.275219   \n9  -0.221642  0.036413  -0.442178  ... -0.696079  0.151433  1.065545   \n\n        V25       V26       V27       V28  Class  scaled_amount  scaled_time  \n0 -1.413700 -0.462762 -2.018575 -1.042804      1       1.102834    -1.122574  \n1  1.066878 -0.233720  1.707521  0.511423      1       0.046539    -1.465271  \n2  0.637394 -0.301425 -0.043124  0.060223      0       0.770833    -1.091408  \n3  0.391418  1.101315 -0.097654 -0.012949      0      -0.249679    -1.050261  \n4  0.386337  0.522438 -1.416604 -0.488307      1       0.400490    -0.020086  \n5  0.388278 -0.009466  2.300164  0.081231      1       2.237530    -1.091345  \n6 -0.690395 -0.356867 -0.140675  0.003377      0      -0.247120     1.400229  \n7  0.545094 -0.440292  0.021668  0.027705      0      -0.297296    -0.537016  \n8 -0.151348  0.426022 -0.026378  0.001271      0      -0.327202    -0.677641  \n9 -0.411146  0.072170  0.198611  0.156206      0      -0.335278     1.575536  \n\n[10 rows x 31 columns]",
      "text/html": "<div>\n<style scoped>\n    .dataframe tbody tr th:only-of-type {\n        vertical-align: middle;\n    }\n\n    .dataframe tbody tr th {\n        vertical-align: top;\n    }\n\n    .dataframe thead th {\n        text-align: right;\n    }\n</style>\n<table border=\"1\" class=\"dataframe\">\n  <thead>\n    <tr style=\"text-align: right;\">\n      <th></th>\n      <th>V1</th>\n      <th>V2</th>\n      <th>V3</th>\n      <th>V4</th>\n      <th>V5</th>\n      <th>V6</th>\n      <th>V7</th>\n      <th>V8</th>\n      <th>V9</th>\n      <th>V10</th>\n      <th>...</th>\n      <th>V22</th>\n      <th>V23</th>\n      <th>V24</th>\n      <th>V25</th>\n      <th>V26</th>\n      <th>V27</th>\n      <th>V28</th>\n      <th>Class</th>\n      <th>scaled_amount</th>\n      <th>scaled_time</th>\n    </tr>\n  </thead>\n  <tbody>\n    <tr>\n      <th>0</th>\n      <td>-16.526507</td>\n      <td>8.584972</td>\n      <td>-18.649853</td>\n      <td>9.505594</td>\n      <td>-13.793819</td>\n      <td>-2.832404</td>\n      <td>-16.701694</td>\n      <td>7.517344</td>\n      <td>-8.507059</td>\n      <td>-14.110184</td>\n      <td>...</td>\n      <td>-1.127670</td>\n      <td>-2.358579</td>\n      <td>0.673461</td>\n      <td>-1.413700</td>\n      <td>-0.462762</td>\n      <td>-2.018575</td>\n      <td>-1.042804</td>\n      <td>1</td>\n      <td>1.102834</td>\n      <td>-1.122574</td>\n    </tr>\n    <tr>\n      <th>1</th>\n      <td>-16.598665</td>\n      <td>10.541751</td>\n      <td>-19.818982</td>\n      <td>6.017295</td>\n      <td>-13.025901</td>\n      <td>-4.128779</td>\n      <td>-14.118865</td>\n      <td>11.161144</td>\n      <td>-4.099551</td>\n      <td>-9.222826</td>\n      <td>...</td>\n      <td>-1.151606</td>\n      <td>-0.680052</td>\n      <td>0.108176</td>\n      <td>1.066878</td>\n      <td>-0.233720</td>\n      <td>1.707521</td>\n      <td>0.511423</td>\n      <td>1</td>\n      <td>0.046539</td>\n      <td>-1.465271</td>\n    </tr>\n    <tr>\n      <th>2</th>\n      <td>0.666674</td>\n      <td>-0.383658</td>\n      <td>-0.288232</td>\n      <td>1.479784</td>\n      <td>-0.172068</td>\n      <td>-0.780203</td>\n      <td>0.877562</td>\n      <td>-0.324587</td>\n      <td>-0.449901</td>\n      <td>-0.082413</td>\n      <td>...</td>\n      <td>0.112799</td>\n      <td>-0.323534</td>\n      <td>0.430247</td>\n      <td>0.637394</td>\n      <td>-0.301425</td>\n      <td>-0.043124</td>\n      <td>0.060223</td>\n      <td>0</td>\n      <td>0.770833</td>\n      <td>-1.091408</td>\n    </tr>\n    <tr>\n      <th>3</th>\n      <td>1.350821</td>\n      <td>-0.488790</td>\n      <td>-0.152951</td>\n      <td>-0.667127</td>\n      <td>-0.779933</td>\n      <td>-1.011976</td>\n      <td>-0.183167</td>\n      <td>-0.195880</td>\n      <td>-1.257735</td>\n      <td>0.911771</td>\n      <td>...</td>\n      <td>-0.515070</td>\n      <td>-0.044780</td>\n      <td>0.362767</td>\n      <td>0.391418</td>\n      <td>1.101315</td>\n      <td>-0.097654</td>\n      <td>-0.012949</td>\n      <td>0</td>\n      <td>-0.249679</td>\n      <td>-1.050261</td>\n    </tr>\n    <tr>\n      <th>4</th>\n      <td>-10.632375</td>\n      <td>7.251936</td>\n      <td>-17.681072</td>\n      <td>8.204144</td>\n      <td>-10.166591</td>\n      <td>-4.510344</td>\n      <td>-12.981606</td>\n      <td>6.783589</td>\n      <td>-4.659330</td>\n      <td>-14.924655</td>\n      <td>...</td>\n      <td>0.695603</td>\n      <td>-1.138122</td>\n      <td>0.459442</td>\n      <td>0.386337</td>\n      <td>0.522438</td>\n      <td>-1.416604</td>\n      <td>-0.488307</td>\n      <td>1</td>\n      <td>0.400490</td>\n      <td>-0.020086</td>\n    </tr>\n    <tr>\n      <th>5</th>\n      <td>-4.423508</td>\n      <td>1.648048</td>\n      <td>-6.934388</td>\n      <td>4.894601</td>\n      <td>-5.078131</td>\n      <td>0.010849</td>\n      <td>-3.409096</td>\n      <td>1.409291</td>\n      <td>-3.260672</td>\n      <td>-7.781353</td>\n      <td>...</td>\n      <td>0.487478</td>\n      <td>1.228698</td>\n      <td>-0.535217</td>\n      <td>0.388278</td>\n      <td>-0.009466</td>\n      <td>2.300164</td>\n      <td>0.081231</td>\n      <td>1</td>\n      <td>2.237530</td>\n      <td>-1.091345</td>\n    </tr>\n    <tr>\n      <th>6</th>\n      <td>-0.738664</td>\n      <td>-1.325445</td>\n      <td>2.662674</td>\n      <td>-2.822248</td>\n      <td>-1.427438</td>\n      <td>-0.254113</td>\n      <td>-1.136939</td>\n      <td>-0.062598</td>\n      <td>-0.344698</td>\n      <td>0.639092</td>\n      <td>...</td>\n      <td>1.042652</td>\n      <td>-0.170794</td>\n      <td>0.430669</td>\n      <td>-0.690395</td>\n      <td>-0.356867</td>\n      <td>-0.140675</td>\n      <td>0.003377</td>\n      <td>0</td>\n      <td>-0.247120</td>\n      <td>1.400229</td>\n    </tr>\n    <tr>\n      <th>7</th>\n      <td>1.214613</td>\n      <td>0.317695</td>\n      <td>0.463319</td>\n      <td>1.118006</td>\n      <td>-0.368664</td>\n      <td>-0.881592</td>\n      <td>0.133159</td>\n      <td>-0.198850</td>\n      <td>0.028318</td>\n      <td>-0.012703</td>\n      <td>...</td>\n      <td>-0.120358</td>\n      <td>-0.030583</td>\n      <td>0.379109</td>\n      <td>0.545094</td>\n      <td>-0.440292</td>\n      <td>0.021668</td>\n      <td>0.027705</td>\n      <td>0</td>\n      <td>-0.297296</td>\n      <td>-0.537016</td>\n    </tr>\n    <tr>\n      <th>8</th>\n      <td>-0.852343</td>\n      <td>0.794752</td>\n      <td>1.280653</td>\n      <td>0.595867</td>\n      <td>-0.061721</td>\n      <td>0.424459</td>\n      <td>-0.126453</td>\n      <td>0.736509</td>\n      <td>-0.601312</td>\n      <td>-0.495973</td>\n      <td>...</td>\n      <td>-0.146433</td>\n      <td>-0.131516</td>\n      <td>-0.275219</td>\n      <td>-0.151348</td>\n      <td>0.426022</td>\n      <td>-0.026378</td>\n      <td>0.001271</td>\n      <td>0</td>\n      <td>-0.327202</td>\n      <td>-0.677641</td>\n    </tr>\n    <tr>\n      <th>9</th>\n      <td>-0.244125</td>\n      <td>1.332023</td>\n      <td>-0.334229</td>\n      <td>-0.509462</td>\n      <td>0.730313</td>\n      <td>-1.103245</td>\n      <td>1.020293</td>\n      <td>-0.221642</td>\n      <td>0.036413</td>\n      <td>-0.442178</td>\n      <td>...</td>\n      <td>-0.696079</td>\n      <td>0.151433</td>\n      <td>1.065545</td>\n      <td>-0.411146</td>\n      <td>0.072170</td>\n      <td>0.198611</td>\n      <td>0.156206</td>\n      <td>0</td>\n      <td>-0.335278</td>\n      <td>1.575536</td>\n    </tr>\n  </tbody>\n</table>\n<p>10 rows × 31 columns</p>\n</div>"
     },
     "execution_count": 73,
     "metadata": {},
     "output_type": "execute_result"
    }
   ],
   "source": [
    "#shuffling our data set\n",
    "subsample = subsample.sample(frac=1).reset_index(drop=True)\n",
    "subsample.head(10)"
   ],
   "metadata": {
    "collapsed": false,
    "pycharm": {
     "name": "#%%\n"
    }
   }
  },
  {
   "cell_type": "code",
   "execution_count": 74,
   "outputs": [
    {
     "data": {
      "text/plain": "Text(0.5, 0, 'Class (0:Non-Fraudulent, 1:Fraudulent)')"
     },
     "execution_count": 74,
     "metadata": {},
     "output_type": "execute_result"
    },
    {
     "data": {
      "text/plain": "<Figure size 576x432 with 1 Axes>",
      "image/png": "[encoded data removed]"
     },
     "metadata": {},
     "output_type": "display_data"
    }
   ],
   "source": [
    "new_counts = subsample.Class.value_counts()\n",
    "plt.figure(figsize=(8,6))\n",
    "sns.barplot(x=new_counts.index, y=new_counts)\n",
    "plt.title('Count of Fraudulent vs. Non-Fraudulent Transactions In Subsample')\n",
    "plt.ylabel('Count')\n",
    "plt.xlabel('Class (0:Non-Fraudulent, 1:Fraudulent)')"
   ],
   "metadata": {
    "collapsed": false,
    "pycharm": {
     "name": "#%%\n"
    }
   }
  },
  {
   "cell_type": "code",
   "execution_count": 75,
   "outputs": [
    {
     "data": {
      "text/plain": "                  Class\nV1            -0.431669\nV2             0.507635\nV3            -0.571175\nV4             0.700508\nV5            -0.369593\nV6            -0.391632\nV7            -0.483414\nV8             0.068023\nV9            -0.570357\nV10           -0.630167\nV11            0.687098\nV12           -0.677356\nV13           -0.052578\nV14           -0.753598\nV15           -0.033207\nV16           -0.587044\nV17           -0.554142\nV18           -0.460095\nV19            0.251260\nV20            0.166474\nV21            0.159137\nV22           -0.004693\nV23           -0.027226\nV24           -0.074971\nV25            0.074956\nV26            0.045496\nV27            0.119361\nV28            0.092412\nClass          1.000000\nscaled_amount  0.046429\nscaled_time   -0.131583",
      "text/html": "<div>\n<style scoped>\n    .dataframe tbody tr th:only-of-type {\n        vertical-align: middle;\n    }\n\n    .dataframe tbody tr th {\n        vertical-align: top;\n    }\n\n    .dataframe thead th {\n        text-align: right;\n    }\n</style>\n<table border=\"1\" class=\"dataframe\">\n  <thead>\n    <tr style=\"text-align: right;\">\n      <th></th>\n      <th>Class</th>\n    </tr>\n  </thead>\n  <tbody>\n    <tr>\n      <th>V1</th>\n      <td>-0.431669</td>\n    </tr>\n    <tr>\n      <th>V2</th>\n      <td>0.507635</td>\n    </tr>\n    <tr>\n      <th>V3</th>\n      <td>-0.571175</td>\n    </tr>\n    <tr>\n      <th>V4</th>\n      <td>0.700508</td>\n    </tr>\n    <tr>\n      <th>V5</th>\n      <td>-0.369593</td>\n    </tr>\n    <tr>\n      <th>V6</th>\n      <td>-0.391632</td>\n    </tr>\n    <tr>\n      <th>V7</th>\n      <td>-0.483414</td>\n    </tr>\n    <tr>\n      <th>V8</th>\n      <td>0.068023</td>\n    </tr>\n    <tr>\n      <th>V9</th>\n      <td>-0.570357</td>\n    </tr>\n    <tr>\n      <th>V10</th>\n      <td>-0.630167</td>\n    </tr>\n    <tr>\n      <th>V11</th>\n      <td>0.687098</td>\n    </tr>\n    <tr>\n      <th>V12</th>\n      <td>-0.677356</td>\n    </tr>\n    <tr>\n      <th>V13</th>\n      <td>-0.052578</td>\n    </tr>\n    <tr>\n      <th>V14</th>\n      <td>-0.753598</td>\n    </tr>\n    <tr>\n      <th>V15</th>\n      <td>-0.033207</td>\n    </tr>\n    <tr>\n      <th>V16</th>\n      <td>-0.587044</td>\n    </tr>\n    <tr>\n      <th>V17</th>\n      <td>-0.554142</td>\n    </tr>\n    <tr>\n      <th>V18</th>\n      <td>-0.460095</td>\n    </tr>\n    <tr>\n      <th>V19</th>\n      <td>0.251260</td>\n    </tr>\n    <tr>\n      <th>V20</th>\n      <td>0.166474</td>\n    </tr>\n    <tr>\n      <th>V21</th>\n      <td>0.159137</td>\n    </tr>\n    <tr>\n      <th>V22</th>\n      <td>-0.004693</td>\n    </tr>\n    <tr>\n      <th>V23</th>\n      <td>-0.027226</td>\n    </tr>\n    <tr>\n      <th>V24</th>\n      <td>-0.074971</td>\n    </tr>\n    <tr>\n      <th>V25</th>\n      <td>0.074956</td>\n    </tr>\n    <tr>\n      <th>V26</th>\n      <td>0.045496</td>\n    </tr>\n    <tr>\n      <th>V27</th>\n      <td>0.119361</td>\n    </tr>\n    <tr>\n      <th>V28</th>\n      <td>0.092412</td>\n    </tr>\n    <tr>\n      <th>Class</th>\n      <td>1.000000</td>\n    </tr>\n    <tr>\n      <th>scaled_amount</th>\n      <td>0.046429</td>\n    </tr>\n    <tr>\n      <th>scaled_time</th>\n      <td>-0.131583</td>\n    </tr>\n  </tbody>\n</table>\n</div>"
     },
     "execution_count": 75,
     "metadata": {},
     "output_type": "execute_result"
    }
   ],
   "source": [
    "#taking a look at correlations once more\n",
    "corr = subsample.corr()\n",
    "corr = corr[['Class']]\n",
    "corr"
   ],
   "metadata": {
    "collapsed": false,
    "pycharm": {
     "name": "#%%\n"
    }
   }
  },
  {
   "cell_type": "code",
   "execution_count": 76,
   "outputs": [
    {
     "data": {
      "text/plain": "        Class\nV3  -0.571175\nV9  -0.570357\nV10 -0.630167\nV12 -0.677356\nV14 -0.753598\nV16 -0.587044\nV17 -0.554142",
      "text/html": "<div>\n<style scoped>\n    .dataframe tbody tr th:only-of-type {\n        vertical-align: middle;\n    }\n\n    .dataframe tbody tr th {\n        vertical-align: top;\n    }\n\n    .dataframe thead th {\n        text-align: right;\n    }\n</style>\n<table border=\"1\" class=\"dataframe\">\n  <thead>\n    <tr style=\"text-align: right;\">\n      <th></th>\n      <th>Class</th>\n    </tr>\n  </thead>\n  <tbody>\n    <tr>\n      <th>V3</th>\n      <td>-0.571175</td>\n    </tr>\n    <tr>\n      <th>V9</th>\n      <td>-0.570357</td>\n    </tr>\n    <tr>\n      <th>V10</th>\n      <td>-0.630167</td>\n    </tr>\n    <tr>\n      <th>V12</th>\n      <td>-0.677356</td>\n    </tr>\n    <tr>\n      <th>V14</th>\n      <td>-0.753598</td>\n    </tr>\n    <tr>\n      <th>V16</th>\n      <td>-0.587044</td>\n    </tr>\n    <tr>\n      <th>V17</th>\n      <td>-0.554142</td>\n    </tr>\n  </tbody>\n</table>\n</div>"
     },
     "execution_count": 76,
     "metadata": {},
     "output_type": "execute_result"
    }
   ],
   "source": [
    "#negative correlations smaller than -0.5\n",
    "corr[corr.Class < -0.5]"
   ],
   "metadata": {
    "collapsed": false,
    "pycharm": {
     "name": "#%%\n"
    }
   }
  },
  {
   "cell_type": "code",
   "execution_count": 77,
   "outputs": [
    {
     "data": {
      "text/plain": "          Class\nV2     0.507635\nV4     0.700508\nV11    0.687098\nClass  1.000000",
      "text/html": "<div>\n<style scoped>\n    .dataframe tbody tr th:only-of-type {\n        vertical-align: middle;\n    }\n\n    .dataframe tbody tr th {\n        vertical-align: top;\n    }\n\n    .dataframe thead th {\n        text-align: right;\n    }\n</style>\n<table border=\"1\" class=\"dataframe\">\n  <thead>\n    <tr style=\"text-align: right;\">\n      <th></th>\n      <th>Class</th>\n    </tr>\n  </thead>\n  <tbody>\n    <tr>\n      <th>V2</th>\n      <td>0.507635</td>\n    </tr>\n    <tr>\n      <th>V4</th>\n      <td>0.700508</td>\n    </tr>\n    <tr>\n      <th>V11</th>\n      <td>0.687098</td>\n    </tr>\n    <tr>\n      <th>Class</th>\n      <td>1.000000</td>\n    </tr>\n  </tbody>\n</table>\n</div>"
     },
     "execution_count": 77,
     "metadata": {},
     "output_type": "execute_result"
    }
   ],
   "source": [
    "#positive correlations greater than 0.5\n",
    "corr[corr.Class > 0.5]"
   ],
   "metadata": {
    "collapsed": false,
    "pycharm": {
     "name": "#%%\n"
    }
   }
  },
  {
   "cell_type": "code",
   "execution_count": null,
   "outputs": [],
   "source": [
    "#visualizing the features w high negative correlation\n",
    "f, axes = plt.subplots(nrows=2, ncols=4, figsize=(26,16))\n",
    "\n",
    "f.suptitle('Features With High Negative Correlation', size=35)\n",
    "sns.boxplot(x=\"Class\", y=\"V3\", data=subsample, ax=axes[0,0])\n",
    "sns.boxplot(x=\"Class\", y=\"V9\", data=subsample, ax=axes[0,1])\n",
    "sns.boxplot(x=\"Class\", y=\"V10\", data=subsample, ax=axes[0,2])\n",
    "sns.boxplot(x=\"Class\", y=\"V12\", data=subsample, ax=axes[0,3])\n",
    "sns.boxplot(x=\"Class\", y=\"V14\", data=subsample, ax=axes[1,0])\n",
    "sns.boxplot(x=\"Class\", y=\"V16\", data=subsample, ax=axes[1,1])\n",
    "sns.boxplot(x=\"Class\", y=\"V17\", data=subsample, ax=axes[1,2])\n",
    "f.delaxes(axes[1,3])"
   ],
   "metadata": {
    "collapsed": false,
    "pycharm": {
     "name": "#%%\n",
     "is_executing": true
    }
   }
  },
  {
   "cell_type": "code",
   "execution_count": null,
   "outputs": [],
   "source": [
    "#visualizing the features w high positive correlation\n",
    "f, axes = plt.subplots(nrows=1, ncols=2, figsize=(18,9))\n",
    "\n",
    "f.suptitle('Features With High Positive Correlation', size=20)\n",
    "sns.boxplot(x=\"Class\", y=\"V4\", data=subsample, ax=axes[0])\n",
    "sns.boxplot(x=\"Class\", y=\"V11\", data=subsample, ax=axes[1])"
   ],
   "metadata": {
    "collapsed": false,
    "pycharm": {
     "name": "#%%\n",
     "is_executing": true
    }
   }
  },
  {
   "cell_type": "code",
   "execution_count": null,
   "outputs": [],
   "source": [
    "#Only removing extreme outliers\n",
    "Q1 = subsample.quantile(0.25)\n",
    "Q3 = subsample.quantile(0.75)\n",
    "IQR = Q3 - Q1\n",
    "\n",
    "df2 = subsample[~((subsample < (Q1 - 2.5 * IQR)) |(subsample > (Q3 + 2.5 * IQR))).any(axis=1)]"
   ],
   "metadata": {
    "collapsed": false,
    "pycharm": {
     "name": "#%%\n",
     "is_executing": true
    }
   }
  },
  {
   "cell_type": "code",
   "execution_count": null,
   "outputs": [],
   "source": [
    "len_after = len(df2)\n",
    "len_before = len(subsample)\n",
    "len_difference = len(subsample) - len(df2)\n",
    "print('We reduced our data size from {} transactions by {} transactions to {} transactions.'.format(len_before, len_difference, len_after))"
   ],
   "metadata": {
    "collapsed": false,
    "pycharm": {
     "name": "#%%\n",
     "is_executing": true
    }
   }
  },
  {
   "cell_type": "code",
   "execution_count": null,
   "outputs": [],
   "source": [
    "from sklearn.manifold import TSNE\n",
    "\n",
    "X = df2.drop('Class', axis=1)\n",
    "y = df2['Class']"
   ],
   "metadata": {
    "collapsed": false,
    "pycharm": {
     "name": "#%%\n",
     "is_executing": true
    }
   }
  },
  {
   "cell_type": "code",
   "execution_count": null,
   "outputs": [],
   "source": [
    "#t-SNE\n",
    "X_reduced_tsne = TSNE(n_components=2, random_state=42).fit_transform(X.values)"
   ],
   "metadata": {
    "collapsed": false,
    "pycharm": {
     "name": "#%%\n",
     "is_executing": true
    }
   }
  },
  {
   "cell_type": "code",
   "execution_count": null,
   "outputs": [],
   "source": [
    "# t-SNE scatter plot\n",
    "import matplotlib.patches as mpatches\n",
    "\n",
    "f, ax = plt.subplots(figsize=(24,16))\n",
    "\n",
    "\n",
    "blue_patch = mpatches.Patch(color='#0A0AFF', label='No Fraud')\n",
    "red_patch = mpatches.Patch(color='#AF0000', label='Fraud')\n",
    "\n",
    "ax.scatter(X_reduced_tsne[:,0], X_reduced_tsne[:,1], c=(y == 0), cmap='coolwarm', label='No Fraud', linewidths=2)\n",
    "ax.scatter(X_reduced_tsne[:,0], X_reduced_tsne[:,1], c=(y == 1), cmap='coolwarm', label='Fraud', linewidths=2)\n",
    "ax.set_title('t-SNE', fontsize=14)\n",
    "\n",
    "ax.grid(True)\n",
    "\n",
    "ax.legend(handles=[blue_patch, red_patch])"
   ],
   "metadata": {
    "collapsed": false,
    "pycharm": {
     "name": "#%%\n",
     "is_executing": true
    }
   }
  },
  {
   "cell_type": "code",
   "execution_count": null,
   "outputs": [],
   "source": [
    "def warn(*args, **kwargs):\n",
    "    pass\n",
    "import warnings\n",
    "warnings.warn = warn"
   ],
   "metadata": {
    "collapsed": false,
    "pycharm": {
     "name": "#%%\n",
     "is_executing": true
    }
   }
  },
  {
   "cell_type": "code",
   "execution_count": null,
   "outputs": [],
   "source": [
    "# train test split\n",
    "from sklearn.model_selection import train_test_split\n",
    "\n",
    "X_train, X_test, y_train, y_test = train_test_split(X, y, test_size=0.2, random_state=42)"
   ],
   "metadata": {
    "collapsed": false,
    "pycharm": {
     "name": "#%%\n",
     "is_executing": true
    }
   }
  },
  {
   "cell_type": "code",
   "execution_count": null,
   "outputs": [],
   "source": [
    "X_train = X_train.values\n",
    "X_validation = X_test.values\n",
    "y_train = y_train.values\n",
    "y_validation = y_test.values"
   ],
   "metadata": {
    "collapsed": false,
    "pycharm": {
     "name": "#%%\n",
     "is_executing": true
    }
   }
  },
  {
   "cell_type": "code",
   "execution_count": null,
   "outputs": [],
   "source": [
    "print('X_shapes:\\n', 'X_train:', 'X_validation:\\n', X_train.shape, X_validation.shape, '\\n')\n",
    "print('Y_shapes:\\n', 'Y_train:', 'Y_validation:\\n', y_train.shape, y_validation.shape)"
   ],
   "metadata": {
    "collapsed": false,
    "pycharm": {
     "name": "#%%\n",
     "is_executing": true
    }
   }
  },
  {
   "cell_type": "code",
   "execution_count": null,
   "outputs": [],
   "source": [
    "from sklearn.model_selection import KFold\n",
    "from sklearn.model_selection import cross_val_score\n",
    "from sklearn.metrics import roc_auc_score\n",
    "from sklearn.metrics import classification_report\n",
    "from sklearn.metrics import confusion_matrix\n",
    "from sklearn.linear_model import LogisticRegression\n",
    "from sklearn.discriminant_analysis import LinearDiscriminantAnalysis\n",
    "from sklearn.neighbors import KNeighborsClassifier\n",
    "from sklearn.tree import DecisionTreeClassifier\n",
    "from sklearn.svm import SVC\n",
    "from xgboost import XGBClassifier\n",
    "from sklearn.ensemble import RandomForestClassifier"
   ],
   "metadata": {
    "collapsed": false,
    "pycharm": {
     "name": "#%%\n",
     "is_executing": true
    }
   }
  },
  {
   "cell_type": "code",
   "execution_count": null,
   "outputs": [],
   "source": [
    "##Spot-Checking Algorithms\n",
    "\n",
    "models = []\n",
    "\n",
    "models.append(('LR', LogisticRegression()))\n",
    "models.append(('LDA', LinearDiscriminantAnalysis()))\n",
    "models.append(('KNN', KNeighborsClassifier()))\n",
    "models.append(('CART', DecisionTreeClassifier()))\n",
    "models.append(('SVM', SVC()))\n",
    "models.append(('XGB', XGBClassifier()))\n",
    "models.append(('RF', RandomForestClassifier()))\n",
    "\n",
    "#testing models\n",
    "\n",
    "results = []\n",
    "names = []\n",
    "\n",
    "for name, model in models:\n",
    "    kfold = KFold(n_splits=10, random_state=42, shuffle= True)\n",
    "    cv_results = cross_val_score(model, X_train, y_train, cv=kfold, scoring='roc_auc')\n",
    "    results.append(cv_results)\n",
    "    names.append(name)\n",
    "    msg = '%s: %f (%f)' % (name, cv_results.mean(), cv_results.std())\n",
    "    print(msg)"
   ],
   "metadata": {
    "collapsed": false,
    "pycharm": {
     "name": "#%%\n",
     "is_executing": true
    }
   }
  },
  {
   "cell_type": "code",
   "execution_count": null,
   "outputs": [],
   "source": [
    "#Compare Algorithms\n",
    "\n",
    "fig = plt.figure(figsize=(12,10))\n",
    "plt.title('Comparison of Classification Algorithms')\n",
    "plt.xlabel('Algorithm')\n",
    "plt.ylabel('ROC-AUC Score')\n",
    "plt.boxplot(results)\n",
    "#ax = fig.add_subplot(111)\n",
    "ax.set_xticklabels(names)\n",
    "plt.show()"
   ],
   "metadata": {
    "collapsed": false,
    "pycharm": {
     "name": "#%%\n",
     "is_executing": true
    }
   }
  },
  {
   "cell_type": "code",
   "execution_count": null,
   "outputs": [],
   "source": [
    "#visualizing RF\n",
    "model = RandomForestClassifier(n_estimators=10)\n",
    "\n",
    "# Train\n",
    "model.fit(X_train, y_train)\n",
    "# Extract single tree\n",
    "estimator = model.estimators_[5]\n",
    "\n",
    "from sklearn.tree import export_graphviz\n",
    "# Export as dot file\n",
    "export_graphviz(estimator, out_file='tree.dot',\n",
    "                feature_names = X.columns.tolist(),\n",
    "                class_names = ['0',' 1'],\n",
    "                rounded = True, proportion = False,\n",
    "                precision = 2, filled = True)\n",
    "\n",
    "# Convert to png using system command (requires Graphviz)\n",
    "from subprocess import call\n",
    "call(['dot', '-Tpng', 'tree.dot', '-o', 'tree.png', '-Gdpi=600'])\n",
    "\n",
    "# Display in jupyter notebook\n",
    "from IPython.display import Image\n",
    "Image(filename = 'tree.png')"
   ],
   "metadata": {
    "collapsed": false,
    "pycharm": {
     "name": "#%%\n",
     "is_executing": true
    }
   }
  },
  {
   "cell_type": "code",
   "execution_count": null,
   "outputs": [],
   "source": [],
   "metadata": {
    "collapsed": false,
    "pycharm": {
     "name": "#%%\n"
    }
   }
  }
 ],
 "metadata": {
  "kernelspec": {
   "display_name": "Python 3",
   "language": "python",
   "name": "python3"
  },
  "language_info": {
   "codemirror_mode": {
    "name": "ipython",
    "version": 2
   },
   "file_extension": ".py",
   "mimetype": "text/x-python",
   "name": "python",
   "nbconvert_exporter": "python",
   "pygments_lexer": "ipython2",
   "version": "2.7.6"
  }
 },
 "nbformat": 4,
 "nbformat_minor": 0
}